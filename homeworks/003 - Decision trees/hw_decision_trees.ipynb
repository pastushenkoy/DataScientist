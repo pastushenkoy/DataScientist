{
 "cells": [
  {
   "cell_type": "markdown",
   "metadata": {},
   "source": [
    "# Titanic: Machine Learning from Disaster"
   ]
  },
  {
   "cell_type": "code",
   "execution_count": 1,
   "metadata": {
    "collapsed": true
   },
   "outputs": [],
   "source": [
    "# https://www.kaggle.com/c/titanic"
   ]
  },
  {
   "cell_type": "code",
   "execution_count": 2,
   "metadata": {
    "collapsed": true
   },
   "outputs": [],
   "source": [
    "import sklearn\n",
    "import pandas as pd"
   ]
  },
  {
   "cell_type": "code",
   "execution_count": 3,
   "metadata": {},
   "outputs": [],
   "source": [
    "train = pd.read_csv('./titanic/train.csv')\n"
   ]
  },
  {
   "cell_type": "code",
   "execution_count": 4,
   "metadata": {
    "collapsed": true
   },
   "outputs": [],
   "source": [
    "train_dummies = pd.get_dummies(train, columns=['Sex', 'Pclass', 'Embarked'])"
   ]
  },
  {
   "cell_type": "markdown",
   "metadata": {},
   "source": [
    "## Preprocess data"
   ]
  },
  {
   "cell_type": "code",
   "execution_count": 5,
   "metadata": {},
   "outputs": [],
   "source": [
    "# Extract features\n",
    "X_train = train_dummies.drop(['PassengerId', 'Survived', 'Name', 'Ticket', 'Cabin'], axis=1)\n",
    "columns = X_train.columns.values"
   ]
  },
  {
   "cell_type": "code",
   "execution_count": 6,
   "metadata": {
    "collapsed": true
   },
   "outputs": [],
   "source": [
    "# Extract targets\n",
    "y_train = train_dummies['Survived']"
   ]
  },
  {
   "cell_type": "code",
   "execution_count": 7,
   "metadata": {
    "collapsed": true
   },
   "outputs": [],
   "source": [
    "from sklearn.preprocessing import Imputer\n",
    "imp = Imputer()\n",
    "X_train = imp.fit(X_train, y_train).transform(X_train)"
   ]
  },
  {
   "cell_type": "markdown",
   "metadata": {},
   "source": [
    "## Train model and make predictions"
   ]
  },
  {
   "cell_type": "code",
   "execution_count": 8,
   "metadata": {
    "collapsed": true
   },
   "outputs": [],
   "source": [
    "from sklearn.pipeline import Pipeline\n",
    "\n",
    "from sklearn.tree import DecisionTreeClassifier\n",
    "\n",
    "from sklearn.model_selection import KFold\n",
    "from sklearn.model_selection import cross_val_score\n",
    "from sklearn.model_selection import GridSearchCV\n",
    "\n",
    "from sklearn.metrics import make_scorer\n",
    "from sklearn.metrics import accuracy_score"
   ]
  },
  {
   "cell_type": "markdown",
   "metadata": {},
   "source": [
    "#### Создаем kfold для оценок"
   ]
  },
  {
   "cell_type": "code",
   "execution_count": 9,
   "metadata": {
    "collapsed": true
   },
   "outputs": [],
   "source": [
    "kfold = KFold(n_splits=5,shuffle=True,random_state=12345)"
   ]
  },
  {
   "cell_type": "markdown",
   "metadata": {},
   "source": [
    "#### Создаем и обучаем дерево"
   ]
  },
  {
   "cell_type": "code",
   "execution_count": 10,
   "metadata": {},
   "outputs": [
    {
     "data": {
      "text/plain": [
       "{'model__criterion': 'gini',\n",
       " 'model__max_depth': 5,\n",
       " 'model__max_leaf_nodes': 20,\n",
       " 'model__min_samples_leaf': 1,\n",
       " 'model__min_samples_split': 2}"
      ]
     },
     "execution_count": 10,
     "metadata": {},
     "output_type": "execute_result"
    }
   ],
   "source": [
    "pipeline = Pipeline([('scale', imp),\n",
    "            ('model', DecisionTreeClassifier())])\n",
    "\n",
    "param_grid = {\"model__criterion\": [\"gini\", \"entropy\"],\n",
    "              \"model__min_samples_split\": [2, 10, 20],\n",
    "              \"model__max_depth\": [None, 2, 5, 10, 15, 20, 30, 40],\n",
    "              \"model__min_samples_leaf\": [1, 5, 10],\n",
    "              \"model__max_leaf_nodes\": [None, 5, 10, 20],\n",
    "              }\n",
    "\n",
    "grid = GridSearchCV(pipeline, param_grid, scoring=make_scorer(accuracy_score), cv=kfold)\n",
    "grid = grid.fit(X_train,y_train)\n",
    "grid.best_params_"
   ]
  },
  {
   "cell_type": "code",
   "execution_count": 11,
   "metadata": {},
   "outputs": [],
   "source": [
    "model = DecisionTreeClassifier(criterion='gini', max_depth=5, max_leaf_nodes=20, min_samples_leaf=5, min_samples_split=2)\\\n",
    "    .fit(X_train,y_train)"
   ]
  },
  {
   "cell_type": "code",
   "execution_count": 12,
   "metadata": {},
   "outputs": [
    {
     "name": "stdout",
     "output_type": "stream",
     "text": [
      "digraph Tree {\n",
      "node [shape=box, style=\"filled\", color=\"black\"] ;\n",
      "0 [label=\"Sex_male <= 0.5\\ngini = 0.473\\nsamples = 891\\nvalue = [549, 342]\", fillcolor=\"#e5813960\"] ;\n",
      "1 [label=\"Pclass_3 <= 0.5\\ngini = 0.3828\\nsamples = 314\\nvalue = [81, 233]\", fillcolor=\"#399de5a6\"] ;\n",
      "0 -> 1 [labeldistance=2.5, labelangle=45, headlabel=\"True\"] ;\n",
      "3 [label=\"Fare <= 28.8563\\ngini = 0.1003\\nsamples = 170\\nvalue = [9, 161]\", fillcolor=\"#399de5f1\"] ;\n",
      "1 -> 3 ;\n",
      "37 [label=\"gini = 0.18\\nsamples = 70\\nvalue = [7, 63]\", fillcolor=\"#399de5e3\"] ;\n",
      "3 -> 37 ;\n",
      "38 [label=\"gini = 0.0392\\nsamples = 100\\nvalue = [2, 98]\", fillcolor=\"#399de5fa\"] ;\n",
      "3 -> 38 ;\n",
      "4 [label=\"Fare <= 23.35\\ngini = 0.5\\nsamples = 144\\nvalue = [72, 72]\", fillcolor=\"#e5813900\"] ;\n",
      "1 -> 4 ;\n",
      "9 [label=\"Age <= 36.5\\ngini = 0.4839\\nsamples = 117\\nvalue = [48, 69]\", fillcolor=\"#399de54e\"] ;\n",
      "4 -> 9 ;\n",
      "13 [label=\"Embarked_S <= 0.5\\ngini = 0.4721\\nsamples = 110\\nvalue = [42, 68]\", fillcolor=\"#399de561\"] ;\n",
      "9 -> 13 ;\n",
      "21 [label=\"Fare <= 15.6208\\ngini = 0.4058\\nsamples = 53\\nvalue = [15, 38]\", fillcolor=\"#399de59a\"] ;\n",
      "13 -> 21 ;\n",
      "25 [label=\"gini = 0.4444\\nsamples = 45\\nvalue = [15, 30]\", fillcolor=\"#399de57f\"] ;\n",
      "21 -> 25 ;\n",
      "26 [label=\"gini = 0.0\\nsamples = 8\\nvalue = [0, 8]\", fillcolor=\"#399de5ff\"] ;\n",
      "21 -> 26 ;\n",
      "22 [label=\"Fare <= 10.825\\ngini = 0.4986\\nsamples = 57\\nvalue = [27, 30]\", fillcolor=\"#399de519\"] ;\n",
      "13 -> 22 ;\n",
      "23 [label=\"gini = 0.4885\\nsamples = 33\\nvalue = [19, 14]\", fillcolor=\"#e5813943\"] ;\n",
      "22 -> 23 ;\n",
      "24 [label=\"gini = 0.4444\\nsamples = 24\\nvalue = [8, 16]\", fillcolor=\"#399de57f\"] ;\n",
      "22 -> 24 ;\n",
      "14 [label=\"gini = 0.2449\\nsamples = 7\\nvalue = [6, 1]\", fillcolor=\"#e58139d4\"] ;\n",
      "9 -> 14 ;\n",
      "10 [label=\"gini = 0.1975\\nsamples = 27\\nvalue = [24, 3]\", fillcolor=\"#e58139df\"] ;\n",
      "4 -> 10 ;\n",
      "2 [label=\"Age <= 6.5\\ngini = 0.3064\\nsamples = 577\\nvalue = [468, 109]\", fillcolor=\"#e58139c4\"] ;\n",
      "0 -> 2 [labeldistance=2.5, labelangle=-45, headlabel=\"False\"] ;\n",
      "5 [label=\"SibSp <= 2.5\\ngini = 0.4444\\nsamples = 24\\nvalue = [8, 16]\", fillcolor=\"#399de57f\"] ;\n",
      "2 -> 5 ;\n",
      "11 [label=\"gini = 0.0\\nsamples = 15\\nvalue = [0, 15]\", fillcolor=\"#399de5ff\"] ;\n",
      "5 -> 11 ;\n",
      "12 [label=\"gini = 0.1975\\nsamples = 9\\nvalue = [8, 1]\", fillcolor=\"#e58139df\"] ;\n",
      "5 -> 12 ;\n",
      "6 [label=\"Pclass_1 <= 0.5\\ngini = 0.2798\\nsamples = 553\\nvalue = [460, 93]\", fillcolor=\"#e58139cb\"] ;\n",
      "2 -> 6 ;\n",
      "7 [label=\"Fare <= 51.6979\\ngini = 0.2043\\nsamples = 433\\nvalue = [383, 50]\", fillcolor=\"#e58139de\"] ;\n",
      "6 -> 7 ;\n",
      "27 [label=\"Age <= 13.0\\ngini = 0.1925\\nsamples = 417\\nvalue = [372, 45]\", fillcolor=\"#e58139e0\"] ;\n",
      "7 -> 27 ;\n",
      "31 [label=\"SibSp <= 2.0\\ngini = 0.4444\\nsamples = 12\\nvalue = [8, 4]\", fillcolor=\"#e581397f\"] ;\n",
      "27 -> 31 ;\n",
      "33 [label=\"gini = 0.32\\nsamples = 5\\nvalue = [1, 4]\", fillcolor=\"#399de5bf\"] ;\n",
      "31 -> 33 ;\n",
      "34 [label=\"gini = 0.0\\nsamples = 7\\nvalue = [7, 0]\", fillcolor=\"#e58139ff\"] ;\n",
      "31 -> 34 ;\n",
      "32 [label=\"Embarked_C <= 0.5\\ngini = 0.182\\nsamples = 405\\nvalue = [364, 41]\", fillcolor=\"#e58139e2\"] ;\n",
      "27 -> 32 ;\n",
      "35 [label=\"gini = 0.1636\\nsamples = 356\\nvalue = [324, 32]\", fillcolor=\"#e58139e6\"] ;\n",
      "32 -> 35 ;\n",
      "36 [label=\"gini = 0.2999\\nsamples = 49\\nvalue = [40, 9]\", fillcolor=\"#e58139c6\"] ;\n",
      "32 -> 36 ;\n",
      "28 [label=\"Fare <= 63.0229\\ngini = 0.4297\\nsamples = 16\\nvalue = [11, 5]\", fillcolor=\"#e581398b\"] ;\n",
      "7 -> 28 ;\n",
      "29 [label=\"gini = 0.4082\\nsamples = 7\\nvalue = [2, 5]\", fillcolor=\"#399de599\"] ;\n",
      "28 -> 29 ;\n",
      "30 [label=\"gini = 0.0\\nsamples = 9\\nvalue = [9, 0]\", fillcolor=\"#e58139ff\"] ;\n",
      "28 -> 30 ;\n",
      "8 [label=\"Fare <= 26.1437\\ngini = 0.4599\\nsamples = 120\\nvalue = [77, 43]\", fillcolor=\"#e5813971\"] ;\n",
      "6 -> 8 ;\n",
      "15 [label=\"gini = 0.0\\nsamples = 10\\nvalue = [10, 0]\", fillcolor=\"#e58139ff\"] ;\n",
      "8 -> 15 ;\n",
      "16 [label=\"Age <= 53.0\\ngini = 0.4762\\nsamples = 110\\nvalue = [67, 43]\", fillcolor=\"#e581395b\"] ;\n",
      "8 -> 16 ;\n",
      "17 [label=\"Fare <= 27.1354\\ngini = 0.4949\\nsamples = 89\\nvalue = [49, 40]\", fillcolor=\"#e581392f\"] ;\n",
      "16 -> 17 ;\n",
      "19 [label=\"gini = 0.2604\\nsamples = 13\\nvalue = [2, 11]\", fillcolor=\"#399de5d1\"] ;\n",
      "17 -> 19 ;\n",
      "20 [label=\"gini = 0.472\\nsamples = 76\\nvalue = [47, 29]\", fillcolor=\"#e5813962\"] ;\n",
      "17 -> 20 ;\n",
      "18 [label=\"gini = 0.2449\\nsamples = 21\\nvalue = [18, 3]\", fillcolor=\"#e58139d4\"] ;\n",
      "16 -> 18 ;\n",
      "}\n"
     ]
    }
   ],
   "source": [
    "from sklearn.tree import export_graphviz\n",
    "print(export_graphviz(model, out_file=None, filled=True, feature_names=list(columns)))"
   ]
  },
  {
   "cell_type": "markdown",
   "metadata": {},
   "source": [
    "## Estimate quality"
   ]
  },
  {
   "cell_type": "code",
   "execution_count": 13,
   "metadata": {},
   "outputs": [
    {
     "data": {
      "text/plain": [
       "array([ 0.7877095 ,  0.78089888,  0.88202247,  0.84831461,  0.83707865])"
      ]
     },
     "execution_count": 13,
     "metadata": {},
     "output_type": "execute_result"
    }
   ],
   "source": [
    "scores = cross_val_score(model, X_train, y_train, groups=None, scoring=make_scorer(accuracy_score),cv=kfold)\n",
    "scores"
   ]
  },
  {
   "cell_type": "markdown",
   "metadata": {},
   "source": [
    "## Create submission "
   ]
  },
  {
   "cell_type": "code",
   "execution_count": 14,
   "metadata": {
    "collapsed": true
   },
   "outputs": [],
   "source": [
    "test = pd.read_csv('./titanic/test.csv')\n",
    "test_dummies = pd.get_dummies(test, columns=['Sex', 'Pclass', 'Embarked'])\n",
    "X_test = test_dummies.drop(['PassengerId', 'Name', 'Ticket', 'Cabin'], axis=1)\n",
    "X_test = imp.transform(X_test)\n",
    "#X_test = scaler.transform(X_test)\n",
    "predicted = model.predict(X_test)\n",
    "with open('submission.txt', 'w') as out:\n",
    "    out.write('PassengerId,Survived\\n')\n",
    "    for passenger, y in zip(test['PassengerId'], predicted):\n",
    "        out.write('%s,%s\\n' % (passenger, y))"
   ]
  },
  {
   "cell_type": "code",
   "execution_count": 15,
   "metadata": {
    "collapsed": true
   },
   "outputs": [],
   "source": [
    "# Kaggle score is 0.779900"
   ]
  },
  {
   "cell_type": "code",
   "execution_count": 16,
   "metadata": {},
   "outputs": [
    {
     "data": {
      "text/plain": [
       "0.82720482078965551"
      ]
     },
     "execution_count": 16,
     "metadata": {},
     "output_type": "execute_result"
    }
   ],
   "source": [
    "scores.mean()"
   ]
  },
  {
   "cell_type": "markdown",
   "metadata": {},
   "source": [
    "#### Score на kaggle получился не только меньше среднего, но и меньше минимального значения в K-fold"
   ]
  }
 ],
 "metadata": {
  "kernelspec": {
   "display_name": "Python 3",
   "language": "python",
   "name": "python3"
  },
  "language_info": {
   "codemirror_mode": {
    "name": "ipython",
    "version": 3
   },
   "file_extension": ".py",
   "mimetype": "text/x-python",
   "name": "python",
   "nbconvert_exporter": "python",
   "pygments_lexer": "ipython3",
   "version": "3.6.1"
  }
 },
 "nbformat": 4,
 "nbformat_minor": 2
}
