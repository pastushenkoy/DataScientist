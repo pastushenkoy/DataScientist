{
 "cells": [
  {
   "cell_type": "markdown",
   "metadata": {},
   "source": [
    "# Описание задания"
   ]
  },
  {
   "cell_type": "markdown",
   "metadata": {},
   "source": [
    "В рамках данного задания, студент должен создать и оценить 4 типа рекомендательных систем:\n",
    "* Non-personalized RS\n",
    "* Content-based RS\n",
    "* Item-based collaborative filtering RS\n",
    "* Hybrid RS\n",
    "\n",
    "Каждая рекомендательная система - отдельное подзадание. Подзадание считается выполненным, если студент создал рекомендательную систему, которая **лучше (или хуже, но не более чем на 10%)** системы, созданной автором данного блокнота. Системы оцениваются с использованием метрики ``HR@N``, описанной ниже."
   ]
  },
  {
   "cell_type": "markdown",
   "metadata": {},
   "source": [
    "# Детальное описание"
   ]
  },
  {
   "cell_type": "markdown",
   "metadata": {},
   "source": [
    "#### Данные: \n",
    "Датасет представлен множеством отзывов к компьютерным играм (объектам) от пользователей Amazon. Каждый отзыв представлен в виде JSON-структуры со следующими полями:\n",
    "* идентификатор пользователя - reviewerID\n",
    "* идентификатор объекта - asin\n",
    "* текст отзыва - reviewText\n",
    "* рейтинг - overall\n",
    "* время публикации обзора - unixReviewTime\n",
    "* другие поля, не использованные автором этого блокнота (смотри полное описание JSON [тут](http://jmcauley.ucsd.edu/data/amazon/))\n",
    "\n",
    "У каждого объекта есть как минимум 5 отзывов, каждый пользователь написал как минимум 5 отзывов. \n",
    "#### Цель: \n",
    "Построить рекомендательную систему, предсказывающую объекты, которые пользователь приобретет в ближайшем будущем. Для упрощения мы считаем, что пользователь приобрел объект, если он написал про него отзыв.\n",
    "#### Подготовка данных:\n",
    "Данные разделены на тренировочную и тестовую выборки по времени публикации отзывов. Первые 80% данных (более старые) используются как тренировочная выборка, остальные - как тестовая. \n",
    "\n",
    "Построение рекомендательной системы (т.е., выбор и тренировка моделей, оптимизация параметров и т.д.) осуществляется **только** с использованием тренировочной выборки. Все параметры, использованные в моделях, **должны быть** получены или объяснены с помощью тренировочных данных. Студент вправе использовать тренировочную выборку как его душе угодно. \n",
    "\n",
    "Тестирующая выборка используется **только** для оценки рекомендательной системы.\n",
    "\n",
    "Для построения рекомендательных моделей также можно использовать JSON-поля из датасета, неиспользованные автором этого блокнота.\n",
    "#### Оценка качества рекомендательной системы\n",
    "Цель рекомендательной системы - посоветовать пользователю объекты, которые он захочет приобрести. Для оценки качества такой системы мы воспользуемся метрикой `hit-ratio (HR)`. \n",
    "\n",
    "$$\n",
    "HR = \\frac{1}{|U_T|}\\sum_{u \\in U_T} \\mathrm{I}(Rel_u \\cap Rec_u)\n",
    "$$\n",
    "\n",
    "* $U_T$ - множество пользователей из тестовой выборки\n",
    "* $Rec_u$ - множество объектов, рекомендованных пользователю $u$ \n",
    "* $Rel_u$ - множество объектов, оцененных пользователем $u$ в тестовой выборке\n",
    "* $\\mathrm{I}(Rel_u \\cap Rec_u)$ - бинарная функция-индикатор. Функция возвращает 1 если $Rel_u \\cap Rec_u \\ne \\emptyset$, иначе 0\n",
    "\n",
    "$HR=1$ если для каждого пользователя мы рекомендовали хотя бы один релевантный объект. Так как обычно пользователи просматривают только первые $N$ рекомендаций, мы будем считать метрику $HR@N$, где $N=10$ (т.е. множество $Rec_u$ будет содержать только 10 объектов). "
   ]
  },
  {
   "cell_type": "markdown",
   "metadata": {},
   "source": [
    "# Условные обозначения\n",
    "* `uid` - идентификатор пользователя\n",
    "* `iid` - идентификатор объекта"
   ]
  },
  {
   "cell_type": "markdown",
   "metadata": {},
   "source": [
    "# Games RSs"
   ]
  },
  {
   "cell_type": "code",
   "execution_count": 2,
   "metadata": {
    "collapsed": true
   },
   "outputs": [],
   "source": [
    "# импорты, которые точно понадобятся\n",
    "import pandas as pd\n",
    "import numpy as np\n",
    "\n",
    "from scipy.sparse import csr_matrix\n",
    "%matplotlib inline\n",
    "import matplotlib.pyplot as plt"
   ]
  },
  {
   "cell_type": "code",
   "execution_count": 3,
   "metadata": {
    "collapsed": true
   },
   "outputs": [],
   "source": [
    "# Данные взяты отсюда - http://jmcauley.ucsd.edu/data/amazon/\n",
    "# http://snap.stanford.edu/data/amazon/productGraph/categoryFiles/reviews_Video_Games_5.json.gz\n",
    "JSON_DATA_PATH = \"Video_Games_5.json\"\n",
    "N = 10"
   ]
  },
  {
   "cell_type": "markdown",
   "metadata": {},
   "source": [
    "## Анализ данных"
   ]
  },
  {
   "cell_type": "code",
   "execution_count": 4,
   "metadata": {
    "collapsed": true
   },
   "outputs": [],
   "source": [
    "import json\n",
    "import time\n",
    "from datetime import datetime\n",
    "\n",
    "\n",
    "def iter_json_data(path):\n",
    "    with open(path) as f:\n",
    "        for line in f:\n",
    "            data = json.loads(line)\n",
    "            yield data\n",
    "            \n",
    "def get_data_frame():\n",
    "    uid_to_id = {}\n",
    "    iid_to_id = {}\n",
    "    \n",
    "    cols = [\"uid\", \"iid\", \"review\", \"rating\", \"dt\", \"dtn\"]\n",
    "    rows = []\n",
    "    for d in iter_json_data(JSON_DATA_PATH):\n",
    "        uid = uid_to_id.setdefault(d[\"reviewerID\"], len(uid_to_id))\n",
    "        iid = iid_to_id.setdefault(d[\"asin\"], len(iid_to_id))\n",
    "        review = d[\"reviewText\"]\n",
    "        rating = float(d[\"overall\"])\n",
    "        dt = int(d[\"unixReviewTime\"])\n",
    "        dtn = datetime.fromtimestamp(d[\"unixReviewTime\"])\n",
    "        rows.append((uid, iid, review, rating, dt, dtn))\n",
    "        \n",
    "    return pd.DataFrame(rows, columns=cols)"
   ]
  },
  {
   "cell_type": "code",
   "execution_count": 5,
   "metadata": {},
   "outputs": [
    {
     "data": {
      "text/html": [
       "<div>\n",
       "<style>\n",
       "    .dataframe thead tr:only-child th {\n",
       "        text-align: right;\n",
       "    }\n",
       "\n",
       "    .dataframe thead th {\n",
       "        text-align: left;\n",
       "    }\n",
       "\n",
       "    .dataframe tbody tr th {\n",
       "        vertical-align: top;\n",
       "    }\n",
       "</style>\n",
       "<table border=\"1\" class=\"dataframe\">\n",
       "  <thead>\n",
       "    <tr style=\"text-align: right;\">\n",
       "      <th></th>\n",
       "      <th>uid</th>\n",
       "      <th>iid</th>\n",
       "      <th>review</th>\n",
       "      <th>rating</th>\n",
       "      <th>dt</th>\n",
       "      <th>dtn</th>\n",
       "    </tr>\n",
       "  </thead>\n",
       "  <tbody>\n",
       "    <tr>\n",
       "      <th>0</th>\n",
       "      <td>0</td>\n",
       "      <td>0</td>\n",
       "      <td>Installing the game was a struggle (because of...</td>\n",
       "      <td>1.0</td>\n",
       "      <td>1341792000</td>\n",
       "      <td>2012-07-09 03:00:00</td>\n",
       "    </tr>\n",
       "    <tr>\n",
       "      <th>1</th>\n",
       "      <td>1</td>\n",
       "      <td>0</td>\n",
       "      <td>If you like rally cars get this game you will ...</td>\n",
       "      <td>4.0</td>\n",
       "      <td>1372550400</td>\n",
       "      <td>2013-06-30 03:00:00</td>\n",
       "    </tr>\n",
       "    <tr>\n",
       "      <th>2</th>\n",
       "      <td>2</td>\n",
       "      <td>0</td>\n",
       "      <td>1st shipment received a book instead of the ga...</td>\n",
       "      <td>1.0</td>\n",
       "      <td>1403913600</td>\n",
       "      <td>2014-06-28 03:00:00</td>\n",
       "    </tr>\n",
       "    <tr>\n",
       "      <th>3</th>\n",
       "      <td>3</td>\n",
       "      <td>0</td>\n",
       "      <td>I got this version instead of the PS3 version,...</td>\n",
       "      <td>3.0</td>\n",
       "      <td>1315958400</td>\n",
       "      <td>2011-09-14 03:00:00</td>\n",
       "    </tr>\n",
       "    <tr>\n",
       "      <th>4</th>\n",
       "      <td>4</td>\n",
       "      <td>0</td>\n",
       "      <td>I had Dirt 2 on Xbox 360 and it was an okay ga...</td>\n",
       "      <td>4.0</td>\n",
       "      <td>1308009600</td>\n",
       "      <td>2011-06-14 03:00:00</td>\n",
       "    </tr>\n",
       "  </tbody>\n",
       "</table>\n",
       "</div>"
      ],
      "text/plain": [
       "   uid  iid                                             review  rating  \\\n",
       "0    0    0  Installing the game was a struggle (because of...     1.0   \n",
       "1    1    0  If you like rally cars get this game you will ...     4.0   \n",
       "2    2    0  1st shipment received a book instead of the ga...     1.0   \n",
       "3    3    0  I got this version instead of the PS3 version,...     3.0   \n",
       "4    4    0  I had Dirt 2 on Xbox 360 and it was an okay ga...     4.0   \n",
       "\n",
       "           dt                 dtn  \n",
       "0  1341792000 2012-07-09 03:00:00  \n",
       "1  1372550400 2013-06-30 03:00:00  \n",
       "2  1403913600 2014-06-28 03:00:00  \n",
       "3  1315958400 2011-09-14 03:00:00  \n",
       "4  1308009600 2011-06-14 03:00:00  "
      ]
     },
     "execution_count": 5,
     "metadata": {},
     "output_type": "execute_result"
    }
   ],
   "source": [
    "df = get_data_frame()\n",
    "df.head()"
   ]
  },
  {
   "cell_type": "code",
   "execution_count": 6,
   "metadata": {},
   "outputs": [
    {
     "name": "stdout",
     "output_type": "stream",
     "text": [
      "min-max количество объектов на пользователя: 5 773\n",
      "min-max количество пользователей на объект: 5 802\n"
     ]
    }
   ],
   "source": [
    "print(\"min-max количество объектов на пользователя:\", \n",
    "      df.groupby(\"uid\").iid.nunique().min(), df.groupby(\"uid\").iid.nunique().max())\n",
    "print(\"min-max количество пользователей на объект:\", \n",
    "      df.groupby(\"iid\").uid.nunique().min(), df.groupby(\"iid\").uid.nunique().max())"
   ]
  },
  {
   "cell_type": "code",
   "execution_count": 7,
   "metadata": {},
   "outputs": [
    {
     "data": {
      "text/plain": [
       "<matplotlib.axes._subplots.AxesSubplot at 0x2a868450f60>"
      ]
     },
     "execution_count": 7,
     "metadata": {},
     "output_type": "execute_result"
    },
    {
     "data": {
      "image/png": "[encoded data removed]",
      "text/plain": [
       "<matplotlib.figure.Figure at 0x2a868459160>"
      ]
     },
     "metadata": {},
     "output_type": "display_data"
    }
   ],
   "source": [
    "plt.title(\"Распределение отзывов по времени\")\n",
    "df.dtn.hist(bins=50)"
   ]
  },
  {
   "cell_type": "code",
   "execution_count": 8,
   "metadata": {
    "scrolled": true
   },
   "outputs": [
    {
     "data": {
      "text/plain": [
       "<matplotlib.axes._subplots.AxesSubplot at 0x2a8762b9a58>"
      ]
     },
     "execution_count": 8,
     "metadata": {},
     "output_type": "execute_result"
    },
    {
     "data": {
      "image/png": "[encoded data removed]",
      "text/plain": [
       "<matplotlib.figure.Figure at 0x2a8762a4da0>"
      ]
     },
     "metadata": {},
     "output_type": "display_data"
    }
   ],
   "source": [
    "plt.title(\"Распределение рейтингов по отзывам\")\n",
    "df.rating.hist()"
   ]
  },
  {
   "cell_type": "code",
   "execution_count": 9,
   "metadata": {},
   "outputs": [
    {
     "data": {
      "text/plain": [
       "array([1], dtype=int64)"
      ]
     },
     "execution_count": 9,
     "metadata": {},
     "output_type": "execute_result"
    }
   ],
   "source": [
    "# проверяем, есть ли случаи, когда один и тот же пользователь оставляет отзывы на один и тот же объект\n",
    "df.groupby([\"uid\", \"iid\"]).review.count().unique()  # ура, таких случаев нет"
   ]
  },
  {
   "cell_type": "code",
   "execution_count": 10,
   "metadata": {},
   "outputs": [
    {
     "name": "stdout",
     "output_type": "stream",
     "text": [
      "Количество объектов: 10672\n",
      "Количество пользователей: 24303\n"
     ]
    }
   ],
   "source": [
    "print(\"Количество объектов:\", df.iid.unique().size)\n",
    "print(\"Количество пользователей:\", df.uid.unique().size)"
   ]
  },
  {
   "cell_type": "markdown",
   "metadata": {},
   "source": [
    "## Готовим выборки"
   ]
  },
  {
   "cell_type": "code",
   "execution_count": 11,
   "metadata": {
    "collapsed": true
   },
   "outputs": [],
   "source": [
    "def split_df_by_dt(df, p=0.8):\n",
    "    \"\"\"Функция разбивает df на тестовую и тренировочную выборки по времени \n",
    "    публикации отзывов (значение времени в поле dt)\n",
    "    \n",
    "    :param p: персентиль значений dt, которые образуют тренировочную выборку. Например p=0.8 означает, что в \n",
    "    тренировочной части будут отзывы, соответствующие первым 80% временного интервала \n",
    "    :return: два pd.DataFrame объекта\n",
    "    \"\"\"\n",
    "    border_dt = df.dt.quantile(p)\n",
    "    print(\"Min=%s, border=%s, max=%s\" % (df.dt.min(), border_dt, df.dt.max()))\n",
    "    training_df, test_df  = df[df.dt <= border_dt], df[df.dt > border_dt]\n",
    "    print(\"Размер до очистки:\", training_df.shape, test_df.shape)\n",
    "    # удаляем из тестовых данных строки, соответствующие пользователям или объектам, \n",
    "    # которых нет в тренировочных данных \n",
    "    # (пользователи - избегаем проблем для персональных систем, объекты - для всех)\n",
    "    test_df = test_df[test_df.uid.isin(training_df.uid) & test_df.iid.isin(training_df.iid)]\n",
    "    print(\"Размер после очистки:\", training_df.shape, test_df.shape)\n",
    "    return training_df, test_df"
   ]
  },
  {
   "cell_type": "code",
   "execution_count": 12,
   "metadata": {},
   "outputs": [
    {
     "name": "stdout",
     "output_type": "stream",
     "text": [
      "Min=939859200, border=1377129600.0, max=1405987200\n",
      "Размер до очистки: (185427, 6) (46353, 6)\n",
      "Размер после очистки: (185427, 6) (19174, 6)\n"
     ]
    }
   ],
   "source": [
    "training_df, test_df = split_df_by_dt(df)\n",
    "del df"
   ]
  },
  {
   "cell_type": "code",
   "execution_count": 13,
   "metadata": {
    "collapsed": true
   },
   "outputs": [],
   "source": [
    "def clean_df(df, min_review_per_uid, min_review_per_iid):\n",
    "    \"\"\"Функция удаляет из df строки, соответствующие пользователям и объектам, \n",
    "    у которых меньше min_review_per_uid и min_review_per_iid отзывов соответственно\n",
    "    \"\"\"\n",
    "    _df = df.copy()\n",
    "    while True:\n",
    "        review_per_uid = _df.groupby(\"uid\").review.count()\n",
    "        bad_uids = review_per_uid[review_per_uid < min_review_per_uid].index\n",
    "    \n",
    "        review_per_iid = _df.groupby(\"iid\").review.count()\n",
    "        bad_iids = review_per_iid[review_per_iid < min_review_per_iid].index\n",
    "        \n",
    "        if bad_uids.shape[0] > 0 or bad_iids.shape[0] > 0:\n",
    "            _df = _df[(~_df.uid.isin(bad_uids)) & (~_df.iid.isin(bad_iids))]\n",
    "        else:\n",
    "            break\n",
    "    return _df"
   ]
  },
  {
   "cell_type": "markdown",
   "metadata": {},
   "source": [
    " ## Метрика"
   ]
  },
  {
   "cell_type": "markdown",
   "metadata": {},
   "source": [
    "Для упрощения тестирования предлагается использовать словарь следующего типа:\n",
    "\n",
    "```python\n",
    "recs = {\n",
    "    uid_1: {\n",
    "        iid_1: score_11,\n",
    "        iid_2: score_12,\n",
    "        ...\n",
    "    },\n",
    "    uid_2: {\n",
    "        iid_1: score_21,\n",
    "        iid_2: score_22,\n",
    "        ...\n",
    "    },\n",
    "    ...\n",
    "}\n",
    "```\n",
    "\n",
    "где `uid_i` - идентификатор тестового пользователя, `iid_j` - идентификатор рекомендованного объекта, а `score_ij` - предсказанный рейтинг/вес объекта `j` для пользователя `i`."
   ]
  },
  {
   "cell_type": "code",
   "execution_count": 14,
   "metadata": {
    "collapsed": true
   },
   "outputs": [],
   "source": [
    "def hit_ratio(recs_dict, test_dict):\n",
    "    \"\"\"Функция считает метрику hit-ration для двух словарей\n",
    "    :recs_dict: словарь рекомендаций типа {uid: {iid: score, ...}, ...}\n",
    "    :test_dict: тестовый словарь типа {uid: {iid: score, ...}, ...}\n",
    "    \"\"\"\n",
    "    hits = 0\n",
    "    for uid in test_dict:\n",
    "        if set(test_dict[uid].keys()).intersection(recs_dict.get(uid, {})):\n",
    "            hits += 1\n",
    "    return hits / len(test_dict)"
   ]
  },
  {
   "cell_type": "code",
   "execution_count": 15,
   "metadata": {
    "collapsed": true
   },
   "outputs": [],
   "source": [
    "def get_test_dict(test_df):\n",
    "    \"\"\"Функция, конвертирующая тестовый df в словарь\n",
    "    \"\"\"\n",
    "    test_dict = {}\n",
    "    for t in test_df.itertuples():\n",
    "        test_dict.setdefault(t.uid, {})\n",
    "        test_dict[t.uid][t.iid] = t.rating\n",
    "    return test_dict\n",
    "\n",
    "test_dict = get_test_dict(test_df)"
   ]
  },
  {
   "cell_type": "code",
   "execution_count": 16,
   "metadata": {
    "collapsed": true
   },
   "outputs": [],
   "source": [
    "class BasicRecommender(object):\n",
    "    def __init__(self):\n",
    "        pass\n",
    "    \n",
    "    def get_recs(self, uid, top):\n",
    "        \"\"\"Строит рекомендации для пользователя uid\n",
    "        :return: словарь типа {iid: score, ...}\n",
    "        \"\"\"\n",
    "        return {}\n",
    "    \n",
    "    def get_batch_recs(self, uids, top):\n",
    "        \"\"\"Строит рекомендации для нескольких пользователей uids\n",
    "        :return: словарь типа {uid: {iid: score, ...}, ...}\n",
    "        \"\"\"\n",
    "        return {uid: self.get_recs(uid, top) for uid in uids}"
   ]
  },
  {
   "cell_type": "markdown",
   "metadata": {
    "collapsed": true
   },
   "source": [
    "## Content-based RS"
   ]
  },
  {
   "cell_type": "markdown",
   "metadata": {},
   "source": [
    "Простая content-based рекомендательная система описывает пользователей и объекты как вектора в некотором N-мерном пространстве фич. Вектор объекта показывает, насколько объект принадлежит к той или иной фиче. Вектор пользователя показывает, насколько пользователь предпочитает ту или иную фичу. Рекомендации строятся путем поиска объектов, чьи вектора похожи на вектор предпочтений пользователя. Предполагается, что чем более похожи вектора пользователя и объекта, тем интереснее этот объект пользователю."
   ]
  },
  {
   "cell_type": "markdown",
   "metadata": {},
   "source": [
    "#### `HR@10` для content-based, модели созданной автором блокнота: 0.065"
   ]
  },
  {
   "cell_type": "markdown",
   "metadata": {},
   "source": [
    "# Решение\n",
    "Для решения используется стандартный шаблон, с некоторыми отличиями:\n",
    "1. При перемножении фичей, полученных по tfidf на значения рейтингов, используются не рейтинги, а значения рейтингов, умноженные на коэффициент затухания, который зависит от возраста отзыва: чем старше отзыв, тем меньше ценность рейтинга\n",
    "2. При вычислении профилей пользователей значения фич профиля не умножаются на рейтинги\n",
    "3. Из выборки исключаются игры, на которые пользователь уже оставил отзыв"
   ]
  },
  {
   "cell_type": "code",
   "execution_count": 56,
   "metadata": {},
   "outputs": [],
   "source": [
    "from sklearn.metrics.pairwise import cosine_similarity\n",
    "from sklearn.feature_extraction.text import TfidfVectorizer\n",
    "from sklearn.preprocessing import normalize\n",
    "from scipy.sparse import vstack\n",
    "from scipy.sparse import csr_matrix\n",
    "from datetime import datetime\n",
    "\n",
    "datetime_format = '%d.%m.%Y %H:%M:%S'\n",
    "\n",
    "class ContentBasedRecommender(BasicRecommender):\n",
    "    def __init__(self, df, edge_date, verbose=False):\n",
    "        super(BasicRecommender, self).__init__()\n",
    "\n",
    "        self._edge_date = time.mktime(edge_date.timetuple())\n",
    "        self._df = df\n",
    "        self._max_dt = self._df['dt'].max()\n",
    "        self._verbose = verbose\n",
    "        \n",
    "        self._prepare_recs()\n",
    "    \n",
    "    def _prepare_recs(self):\n",
    "        # формируем новый рейтинг с учетом затухания\n",
    "        self._df['t_rating'] = self._get_t_rating()\n",
    "        \n",
    "        # формируем фичи\n",
    "        self._tfidf = self._get_tfidf()\n",
    "        \n",
    "        # умножаем фичи на приведенные рейтинги\n",
    "        self._tfidf = self._tfidf.multiply(self._df.t_rating.values.reshape(-1, 1)).tocsr()        \n",
    "        \n",
    "        # формируем фичи по играм\n",
    "        self._iid_to_rowid, self._rowid_to_iid, self._item_features = self._get_item_features()\n",
    "        \n",
    "        # формируем профили пользователей\n",
    "        self._uid_to_row_id, self._user_profiles = self._get_user_profiles()\n",
    "        \n",
    "        # формируем словарь того, что юзеры уже посмотрели\n",
    "        self._watched_dict = self._get_watched_dict()\n",
    "        \n",
    "        # транспонируем фичи по играм для быстрого перемножения\n",
    "        self._features_item = self._item_features.T.tocsr()\n",
    "        \n",
    "    def _get_t_rating(self):\n",
    "        datetime_start = datetime.now()\n",
    "        if self._verbose:\n",
    "            print('Начало формирования нового рейтинга:', datetime_start.strftime(datetime_format))\n",
    "        res = self._df.apply(lambda row: self._decay(row), axis=1);\n",
    "        if self._verbose:\n",
    "            print('Новый рейтинг сформирован. Времени затрачено:', (datetime.now() - datetime_start).total_seconds(), 'сек')\n",
    "        return res\n",
    "    \n",
    "    def _decay(self, row):\n",
    "        r = row['rating']\n",
    "        dt = row['dt'] - self._edge_date\n",
    "\n",
    "        coef = dt/self._max_dt\n",
    "\n",
    "        return r*(0 if dt <= 0 else coef)\n",
    "\n",
    "    def _get_tfidf(self):\n",
    "        datetime_start = datetime.now()\n",
    "        if self._verbose:\n",
    "            print('Начало формирования tfidf:', datetime_start.strftime(datetime_format))\n",
    "        res = TfidfVectorizer(stop_words='english').fit_transform(self._df.review)\n",
    "        if self._verbose:\n",
    "            print('tfidf сформирован. Времени затрачено:', (datetime.now() - datetime_start).total_seconds(), 'сек')\n",
    "        return res\n",
    "    \n",
    "    def _get_item_features(self):\n",
    "        iid_to_id = {}\n",
    "        id_to_iid = {}\n",
    "\n",
    "        item_features = []\n",
    "\n",
    "        datetime_start = datetime.now()\n",
    "        datetime_previous = datetime_start\n",
    "\n",
    "        iids_unique = self._df.iid.unique()\n",
    "        total_items = len(iids_unique)\n",
    "\n",
    "        if self._verbose:\n",
    "            print('Начало вычисления фичей для игр:', datetime_start.strftime(datetime_format), '. Количество игр:', total_items)\n",
    "\n",
    "        r_id = 0;\n",
    "        for row_id, iid in enumerate(iids_unique):\n",
    "            iid_to_id[iid] = row_id\n",
    "            id_to_iid[row_id] = iid\n",
    "\n",
    "            item_features.append(csr_matrix(self._tfidf[np.where(self._df.iid == iid)].sum(axis=0)))\n",
    "\n",
    "            r_id +=1\n",
    "            if self._verbose & ((r_id % 1000 == 0) | (r_id % total_items == 0)):\n",
    "                print('Обработано игр:', r_id, '. Затрачено времени:', (datetime.now() - datetime_previous).total_seconds())\n",
    "                datetime_previous = datetime.now()\n",
    "\n",
    "        if self._verbose:            \n",
    "            print('Вычисление фичей для игр завершено:', datetime_start, '. Затрачено времени:',\\\n",
    "                (datetime.now() - datetime_start).total_seconds())\n",
    "\n",
    "        return iid_to_id, id_to_iid, normalize(vstack(item_features, format='csr'))    \n",
    "    \n",
    "    def _get_user_profiles(self):\n",
    "        uid_to_row_id = {}\n",
    "        user_profiles = []\n",
    "\n",
    "        datetime_start = datetime.now()\n",
    "        datetime_previous = datetime_start\n",
    "\n",
    "        grouped_by_uid = self._df.groupby('uid')\n",
    "        total_users = len(grouped_by_uid)\n",
    "\n",
    "        if self._verbose:\n",
    "            print('Начало вычисления профилей пользователей:', datetime_start, '. Количество пользователей:', total_users)\n",
    "\n",
    "        r_id = 0;\n",
    "        for gr_id, gr_df in grouped_by_uid:\n",
    "            uid = gr_df.uid.values[0];\n",
    "\n",
    "            item_ids = []\n",
    "            for iid, rating in zip(gr_df.iid, gr_df.rating):\n",
    "                item_ftr_id = self._iid_to_rowid[iid]\n",
    "                item_ids.append(item_ftr_id)\n",
    "\n",
    "            if (item_ids):\n",
    "                uid_to_row_id[uid] = len(uid_to_row_id)\n",
    "                profile = csr_matrix(\n",
    "                        self._item_features[item_ids].sum(axis=0)\n",
    "                    ) \n",
    "                user_profiles.append(profile)\n",
    "\n",
    "            r_id +=1;\n",
    "            if self._verbose & ((r_id % 2000 == 0) | (r_id % total_users == 0)):\n",
    "                print('Обработано пользователей:', r_id, '. Затрачено времени:', (datetime.now() - datetime_previous).total_seconds())\n",
    "                datetime_previous = datetime.now()\n",
    "\n",
    "        if self._verbose:\n",
    "            print('Вычисление профилей пользователей завершено:', datetime_start, '. Затрачено времени:',\\\n",
    "                (datetime.now() - datetime_start).total_seconds())\n",
    "\n",
    "        return uid_to_row_id, normalize(vstack(user_profiles, format='csr'))    \n",
    "    \n",
    "    def _get_watched_dict(self):\n",
    "        watched_dict = {}\n",
    "        for gr_id, gr_df in self._df[['uid', 'iid']].groupby('uid'):\n",
    "            uid = gr_df['uid'].values[0]\n",
    "\n",
    "            iids = []\n",
    "            for iid in gr_df.iid:\n",
    "                iids.append(iid)\n",
    "\n",
    "            watched_dict[uid] = iids\n",
    "        return watched_dict\n",
    "    \n",
    "    def get_recs(self, uid, top):\n",
    "        recs = {}\n",
    "        \n",
    "        if uid not in self._uid_to_row_id:\n",
    "            return recs\n",
    "    \n",
    "        row_id = self._uid_to_row_id[uid]\n",
    "        u_row = self._user_profiles[row_id]\n",
    "\n",
    "        u_recs = u_row.dot(self._features_item)\n",
    "\n",
    "        played_iids = self._watched_dict[uid]\n",
    "\n",
    "        for arg_id in np.argsort(u_recs.data)[-top-len(played_iids):]:\n",
    "            row_id = u_recs.indices[arg_id]\n",
    "            iid = self._rowid_to_iid[row_id]\n",
    "            if iid not in played_iids:\n",
    "                score = u_recs.data[arg_id]\n",
    "                recs[self._rowid_to_iid[row_id]] = score\n",
    "                if len(recs) >= top:\n",
    "                    break\n",
    "        return recs\n",
    "    \n",
    "    def get_batch_recs(self, uids, top):\n",
    "        datetime_start = datetime.now()\n",
    "        datetime_previous = datetime_start\n",
    "\n",
    "        total_users = len(uids)\n",
    "\n",
    "        recs = {}\n",
    "        if self._verbose:\n",
    "            print('Начало получения рекоммендаций: ', datetime_previous, '. Количество пользователей:', total_users)\n",
    "\n",
    "        row_id = 0\n",
    "        for uid in uids:\n",
    "\n",
    "            recs[uid] = self.get_recs(uid, top)\n",
    "            row_id += 1\n",
    "            if self._verbose & ((row_id % 2000 == 0) | (row_id % total_users == 0)):\n",
    "                print('Обработано пользователей:', row_id, '. Затрачено:', \\\n",
    "                      (datetime.now()-datetime_previous).total_seconds(), 'сек.')\n",
    "                datetime_previous = datetime.now()\n",
    "\n",
    "        if self._verbose:\n",
    "            print('Получение рекоммендаций завершено:', datetime.now(), \\\n",
    "                  '. Всего затрачено времени:', (datetime.now() - datetime_start).total_seconds())        \n",
    "        return recs\n"
   ]
  },
  {
   "cell_type": "code",
   "execution_count": 42,
   "metadata": {},
   "outputs": [
    {
     "name": "stdout",
     "output_type": "stream",
     "text": [
      "Начало формирования нового рейтинга: 20.08.2017 23:04:51\n",
      "Новый рейтинг сформирован. Времени затрачено: 20.719831 сек\n",
      "Начало формирования tfidf: 20.08.2017 23:05:12\n",
      "tfidf сформирован. Времени затрачено: 34.786422 сек\n",
      "Начало вычисления фичей для игр: 20.08.2017 23:05:51 . Количество игр: 10098\n",
      "Обработано игр: 1000 . Затрачено времени: 4.454678\n",
      "Обработано игр: 2000 . Затрачено времени: 4.404715\n",
      "Обработано игр: 3000 . Затрачено времени: 4.298784\n",
      "Обработано игр: 4000 . Затрачено времени: 4.267445\n",
      "Обработано игр: 5000 . Затрачено времени: 4.390725\n",
      "Обработано игр: 6000 . Затрачено времени: 4.268729\n",
      "Обработано игр: 7000 . Затрачено времени: 4.271758\n",
      "Обработано игр: 8000 . Затрачено времени: 4.278095\n",
      "Обработано игр: 9000 . Затрачено времени: 4.461078\n",
      "Обработано игр: 10000 . Затрачено времени: 4.471824\n",
      "Обработано игр: 10098 . Затрачено времени: 0.420103\n",
      "Вычисление фичей для игр завершено: 2017-08-20 23:05:51.205009 . Затрачено времени: 43.990935\n",
      "Начало вычисления профилей пользователей: 2017-08-20 23:06:35.368488 . Количество пользователей: 22215\n",
      "Обработано пользователей: 2000 . Затрачено времени: 9.841272\n",
      "Обработано пользователей: 4000 . Затрачено времени: 9.308189\n",
      "Обработано пользователей: 6000 . Затрачено времени: 9.074152\n",
      "Обработано пользователей: 8000 . Затрачено времени: 9.214601\n",
      "Обработано пользователей: 10000 . Затрачено времени: 9.296549\n",
      "Обработано пользователей: 12000 . Затрачено времени: 9.447551\n",
      "Обработано пользователей: 14000 . Затрачено времени: 9.923796\n",
      "Обработано пользователей: 16000 . Затрачено времени: 9.290688\n",
      "Обработано пользователей: 18000 . Затрачено времени: 9.374629\n",
      "Обработано пользователей: 20000 . Затрачено времени: 9.392057\n",
      "Обработано пользователей: 22000 . Затрачено времени: 9.129\n",
      "Обработано пользователей: 22215 . Затрачено времени: 1.075372\n",
      "Вычисление профилей пользователей завершено: 2017-08-20 23:06:35.368488 . Затрачено времени: 104.370867\n"
     ]
    }
   ],
   "source": [
    "testdict = get_test_dict(test_df)\n",
    "uiids = list(testdict.keys())\n",
    "rs = ContentBasedRecommender(training_df, datetime(2007, 1, 1)) # дата выбрана случайно. на кросс-валидацию не хватило времени."
   ]
  },
  {
   "cell_type": "code",
   "execution_count": 43,
   "metadata": {},
   "outputs": [
    {
     "name": "stdout",
     "output_type": "stream",
     "text": [
      "Начало получения рекоммендаций:  2017-08-20 23:08:27.858867 . Количество пользователей: 6815\n",
      "Обработано пользователей: 2000 . Затрачено: 18.951717 сек.\n",
      "Обработано пользователей: 4000 . Затрачено: 19.82847 сек.\n",
      "Обработано пользователей: 6000 . Затрачено: 21.054393 сек.\n",
      "Обработано пользователей: 6815 . Затрачено: 8.823032 сек.\n",
      "Получение рекоммендаций завершено: 2017-08-20 23:09:36.517980 . Всего затрачено времени: 68.659113\n"
     ]
    },
    {
     "data": {
      "text/plain": [
       "0.07043286867204696"
      ]
     },
     "execution_count": 43,
     "metadata": {},
     "output_type": "execute_result"
    }
   ],
   "source": [
    "hit_ratio(rs.get_batch_recs(uiids, 10), testdict)"
   ]
  },
  {
   "cell_type": "markdown",
   "metadata": {
    "collapsed": true
   },
   "source": [
    "##### HR@10 получился 0.0704"
   ]
  },
  {
   "cell_type": "code",
   "execution_count": null,
   "metadata": {
    "collapsed": true
   },
   "outputs": [],
   "source": []
  }
 ],
 "metadata": {
  "kernelspec": {
   "display_name": "Python 3",
   "language": "python",
   "name": "python3"
  },
  "language_info": {
   "codemirror_mode": {
    "name": "ipython",
    "version": 3
   },
   "file_extension": ".py",
   "mimetype": "text/x-python",
   "name": "python",
   "nbconvert_exporter": "python",
   "pygments_lexer": "ipython3",
   "version": "3.6.1"
  }
 },
 "nbformat": 4,
 "nbformat_minor": 2
}
