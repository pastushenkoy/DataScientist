{
 "cells": [
  {
   "cell_type": "markdown",
   "metadata": {},
   "source": [
    "# Домашнее задание 1"
   ]
  },
  {
   "cell_type": "code",
   "execution_count": 1,
   "metadata": {},
   "outputs": [],
   "source": [
    "import pandas as pd\n",
    "from datetime import datetime"
   ]
  },
  {
   "cell_type": "markdown",
   "metadata": {},
   "source": [
    "### Загружаем данные"
   ]
  },
  {
   "cell_type": "code",
   "execution_count": 2,
   "metadata": {},
   "outputs": [],
   "source": [
    "column_names = ['id', 'tdate', 'tname', 'ttext', 'ttype', 'trep', 'tfav', 'tstcount', 'tfol', 'tfrien', 'listcount', 'unknown']\n",
    "positive = pd.read_csv('D:/YandexDisk/DataScientist/DataSets/twitter_/positive.csv', delimiter=\";\", header=None, names=column_names )\n",
    "negative = pd.read_csv('D:/YandexDisk/DataScientist/DataSets/twitter_/negative.csv', delimiter=\";\", header=None, names=column_names )"
   ]
  },
  {
   "cell_type": "markdown",
   "metadata": {},
   "source": [
    "#### Сцепляем выборки"
   ]
  },
  {
   "cell_type": "code",
   "execution_count": 3,
   "metadata": {
    "collapsed": true
   },
   "outputs": [],
   "source": [
    "full = positive.append(negative).sample(frac=1)"
   ]
  },
  {
   "cell_type": "code",
   "execution_count": 4,
   "metadata": {},
   "outputs": [
    {
     "name": "stdout",
     "output_type": "stream",
     "text": [
      "<class 'pandas.core.frame.DataFrame'>\n",
      "Int64Index: 226834 entries, 107898 to 107515\n",
      "Data columns (total 12 columns):\n",
      "id           226834 non-null int64\n",
      "tdate        226834 non-null int64\n",
      "tname        226834 non-null object\n",
      "ttext        226834 non-null object\n",
      "ttype        226834 non-null int64\n",
      "trep         226834 non-null int64\n",
      "tfav         226834 non-null int64\n",
      "tstcount     226834 non-null int64\n",
      "tfol         226834 non-null int64\n",
      "tfrien       226834 non-null int64\n",
      "listcount    226834 non-null int64\n",
      "unknown      226834 non-null int64\n",
      "dtypes: int64(10), object(2)\n",
      "memory usage: 22.5+ MB\n"
     ]
    }
   ],
   "source": [
    "full.info()"
   ]
  },
  {
   "cell_type": "code",
   "execution_count": 6,
   "metadata": {},
   "outputs": [
    {
     "data": {
      "text/html": [
       "<div>\n",
       "<style>\n",
       "    .dataframe thead tr:only-child th {\n",
       "        text-align: right;\n",
       "    }\n",
       "\n",
       "    .dataframe thead th {\n",
       "        text-align: left;\n",
       "    }\n",
       "\n",
       "    .dataframe tbody tr th {\n",
       "        vertical-align: top;\n",
       "    }\n",
       "</style>\n",
       "<table border=\"1\" class=\"dataframe\">\n",
       "  <thead>\n",
       "    <tr style=\"text-align: right;\">\n",
       "      <th></th>\n",
       "      <th>id</th>\n",
       "      <th>tdate</th>\n",
       "      <th>tname</th>\n",
       "      <th>ttext</th>\n",
       "      <th>ttype</th>\n",
       "      <th>trep</th>\n",
       "      <th>tfav</th>\n",
       "      <th>tstcount</th>\n",
       "      <th>tfol</th>\n",
       "      <th>tfrien</th>\n",
       "      <th>listcount</th>\n",
       "      <th>unknown</th>\n",
       "    </tr>\n",
       "  </thead>\n",
       "  <tbody>\n",
       "    <tr>\n",
       "      <th>107898</th>\n",
       "      <td>424276542370242560</td>\n",
       "      <td>1389990385</td>\n",
       "      <td>RudikNatalia</td>\n",
       "      <td>@BTKris89 будешь потом рассказывать мне про ко...</td>\n",
       "      <td>-1</td>\n",
       "      <td>0</td>\n",
       "      <td>0</td>\n",
       "      <td>0</td>\n",
       "      <td>3147</td>\n",
       "      <td>47</td>\n",
       "      <td>136</td>\n",
       "      <td>0</td>\n",
       "    </tr>\n",
       "    <tr>\n",
       "      <th>39733</th>\n",
       "      <td>413895335564812288</td>\n",
       "      <td>1387515312</td>\n",
       "      <td>BydawayEugene</td>\n",
       "      <td>Ну почему вова не идет завтра на уроки без нег...</td>\n",
       "      <td>-1</td>\n",
       "      <td>0</td>\n",
       "      <td>0</td>\n",
       "      <td>0</td>\n",
       "      <td>472</td>\n",
       "      <td>280</td>\n",
       "      <td>328</td>\n",
       "      <td>0</td>\n",
       "    </tr>\n",
       "    <tr>\n",
       "      <th>17173</th>\n",
       "      <td>409368204113641473</td>\n",
       "      <td>1386435960</td>\n",
       "      <td>egormaloi</td>\n",
       "      <td>Епта проодолжаем праздник!!.ебашим на гоорку к...</td>\n",
       "      <td>1</td>\n",
       "      <td>0</td>\n",
       "      <td>0</td>\n",
       "      <td>0</td>\n",
       "      <td>791</td>\n",
       "      <td>20</td>\n",
       "      <td>19</td>\n",
       "      <td>0</td>\n",
       "    </tr>\n",
       "    <tr>\n",
       "      <th>55579</th>\n",
       "      <td>410083670960386048</td>\n",
       "      <td>1386606540</td>\n",
       "      <td>bestanimefka</td>\n",
       "      <td>Музыка сегодня будет разной, на столько разной...</td>\n",
       "      <td>1</td>\n",
       "      <td>0</td>\n",
       "      <td>0</td>\n",
       "      <td>0</td>\n",
       "      <td>1972</td>\n",
       "      <td>65</td>\n",
       "      <td>1</td>\n",
       "      <td>1</td>\n",
       "    </tr>\n",
       "    <tr>\n",
       "      <th>2998</th>\n",
       "      <td>409044286005465088</td>\n",
       "      <td>1386358732</td>\n",
       "      <td>MysteriousThe</td>\n",
       "      <td>@grapes2705 пф, АЗАХАХАХ, НЕ НА ТУ НАРВАЛАСЬ, ...</td>\n",
       "      <td>1</td>\n",
       "      <td>0</td>\n",
       "      <td>0</td>\n",
       "      <td>0</td>\n",
       "      <td>9446</td>\n",
       "      <td>102</td>\n",
       "      <td>45</td>\n",
       "      <td>1</td>\n",
       "    </tr>\n",
       "  </tbody>\n",
       "</table>\n",
       "</div>"
      ],
      "text/plain": [
       "                        id       tdate          tname  \\\n",
       "107898  424276542370242560  1389990385   RudikNatalia   \n",
       "39733   413895335564812288  1387515312  BydawayEugene   \n",
       "17173   409368204113641473  1386435960      egormaloi   \n",
       "55579   410083670960386048  1386606540   bestanimefka   \n",
       "2998    409044286005465088  1386358732  MysteriousThe   \n",
       "\n",
       "                                                    ttext  ttype  trep  tfav  \\\n",
       "107898  @BTKris89 будешь потом рассказывать мне про ко...     -1     0     0   \n",
       "39733   Ну почему вова не идет завтра на уроки без нег...     -1     0     0   \n",
       "17173   Епта проодолжаем праздник!!.ебашим на гоорку к...      1     0     0   \n",
       "55579   Музыка сегодня будет разной, на столько разной...      1     0     0   \n",
       "2998    @grapes2705 пф, АЗАХАХАХ, НЕ НА ТУ НАРВАЛАСЬ, ...      1     0     0   \n",
       "\n",
       "        tstcount  tfol  tfrien  listcount  unknown  \n",
       "107898         0  3147      47        136        0  \n",
       "39733          0   472     280        328        0  \n",
       "17173          0   791      20         19        0  \n",
       "55579          0  1972      65          1        1  \n",
       "2998           0  9446     102         45        1  "
      ]
     },
     "execution_count": 6,
     "metadata": {},
     "output_type": "execute_result"
    }
   ],
   "source": [
    "full.head()"
   ]
  },
  {
   "cell_type": "markdown",
   "metadata": {},
   "source": [
    "### Разбиваем на train и test"
   ]
  },
  {
   "cell_type": "code",
   "execution_count": 9,
   "metadata": {
    "collapsed": true
   },
   "outputs": [],
   "source": [
    "from sklearn.model_selection import train_test_split"
   ]
  },
  {
   "cell_type": "code",
   "execution_count": 10,
   "metadata": {},
   "outputs": [],
   "source": [
    "X_train, X_test, y_train, y_test = train_test_split(full['ttext'], full['ttype'], test_size=0.2)"
   ]
  },
  {
   "cell_type": "markdown",
   "metadata": {},
   "source": [
    "### Загружаем стоп-слова"
   ]
  },
  {
   "cell_type": "code",
   "execution_count": 11,
   "metadata": {},
   "outputs": [
    {
     "data": {
      "text/plain": [
       "['а',\n",
       " 'будем',\n",
       " 'будет',\n",
       " 'будете',\n",
       " 'будешь',\n",
       " 'буду',\n",
       " 'будут',\n",
       " 'будучи',\n",
       " 'будь',\n",
       " 'будьте',\n",
       " 'бы',\n",
       " 'был',\n",
       " 'была',\n",
       " 'были',\n",
       " 'было',\n",
       " 'быть',\n",
       " 'в',\n",
       " 'вам',\n",
       " 'вами',\n",
       " 'вас',\n",
       " 'весь',\n",
       " 'во',\n",
       " 'вот',\n",
       " 'все',\n",
       " 'всё',\n",
       " 'всего',\n",
       " 'всей',\n",
       " 'всем',\n",
       " 'всём',\n",
       " 'всеми',\n",
       " 'всему',\n",
       " 'всех',\n",
       " 'всею',\n",
       " 'всея',\n",
       " 'всю',\n",
       " 'вся',\n",
       " 'вы',\n",
       " 'да',\n",
       " 'для',\n",
       " 'до',\n",
       " 'его',\n",
       " 'едим',\n",
       " 'едят',\n",
       " 'ее',\n",
       " 'её',\n",
       " 'ей',\n",
       " 'ел',\n",
       " 'ела',\n",
       " 'ем',\n",
       " 'ему',\n",
       " 'емъ',\n",
       " 'если',\n",
       " 'ест',\n",
       " 'есть',\n",
       " 'ешь',\n",
       " 'еще',\n",
       " 'ещё',\n",
       " 'ею',\n",
       " 'же',\n",
       " 'за',\n",
       " 'и',\n",
       " 'из',\n",
       " 'или',\n",
       " 'им',\n",
       " 'ими',\n",
       " 'имъ',\n",
       " 'их',\n",
       " 'к',\n",
       " 'как',\n",
       " 'кем',\n",
       " 'ко',\n",
       " 'когда',\n",
       " 'кого',\n",
       " 'ком',\n",
       " 'кому',\n",
       " 'комья',\n",
       " 'которая',\n",
       " 'которого',\n",
       " 'которое',\n",
       " 'которой',\n",
       " 'котором',\n",
       " 'которому',\n",
       " 'которою',\n",
       " 'которую',\n",
       " 'которые',\n",
       " 'который',\n",
       " 'которым',\n",
       " 'которыми',\n",
       " 'которых',\n",
       " 'кто',\n",
       " 'меня',\n",
       " 'мне',\n",
       " 'мной',\n",
       " 'мною',\n",
       " 'мог',\n",
       " 'моги',\n",
       " 'могите',\n",
       " 'могла',\n",
       " 'могли',\n",
       " 'могло',\n",
       " 'могу',\n",
       " 'могут',\n",
       " 'мое',\n",
       " 'моё',\n",
       " 'моего',\n",
       " 'моей',\n",
       " 'моем',\n",
       " 'моём',\n",
       " 'моему',\n",
       " 'моею',\n",
       " 'можем',\n",
       " 'может',\n",
       " 'можете',\n",
       " 'можешь',\n",
       " 'мои',\n",
       " 'мой',\n",
       " 'моим',\n",
       " 'моими',\n",
       " 'моих',\n",
       " 'мочь',\n",
       " 'мою',\n",
       " 'моя',\n",
       " 'мы',\n",
       " 'на',\n",
       " 'нам',\n",
       " 'нами',\n",
       " 'нас',\n",
       " 'наса',\n",
       " 'наш',\n",
       " 'наша',\n",
       " 'наше',\n",
       " 'нашего',\n",
       " 'нашей',\n",
       " 'нашем',\n",
       " 'нашему',\n",
       " 'нашею',\n",
       " 'наши',\n",
       " 'нашим',\n",
       " 'нашими',\n",
       " 'наших',\n",
       " 'нашу',\n",
       " 'не',\n",
       " 'него',\n",
       " 'нее',\n",
       " 'неё',\n",
       " 'ней',\n",
       " 'нем',\n",
       " 'нём',\n",
       " 'нему',\n",
       " 'нет',\n",
       " 'нею',\n",
       " 'ним',\n",
       " 'ними',\n",
       " 'них',\n",
       " 'но',\n",
       " 'о',\n",
       " 'об',\n",
       " 'один',\n",
       " 'одна',\n",
       " 'одни',\n",
       " 'одним',\n",
       " 'одними',\n",
       " 'одних',\n",
       " 'одно',\n",
       " 'одного',\n",
       " 'одной',\n",
       " 'одном',\n",
       " 'одному',\n",
       " 'одною',\n",
       " 'одну',\n",
       " 'он',\n",
       " 'она',\n",
       " 'оне',\n",
       " 'они',\n",
       " 'оно',\n",
       " 'от',\n",
       " 'по',\n",
       " 'при',\n",
       " 'с',\n",
       " 'сам',\n",
       " 'сама',\n",
       " 'сами',\n",
       " 'самим',\n",
       " 'самими',\n",
       " 'самих',\n",
       " 'само',\n",
       " 'самого',\n",
       " 'самом',\n",
       " 'самому',\n",
       " 'саму',\n",
       " 'свое',\n",
       " 'своё',\n",
       " 'своего',\n",
       " 'своей',\n",
       " 'своем',\n",
       " 'своём',\n",
       " 'своему',\n",
       " 'своею',\n",
       " 'свои',\n",
       " 'свой',\n",
       " 'своим',\n",
       " 'своими',\n",
       " 'своих',\n",
       " 'свою',\n",
       " 'своя',\n",
       " 'себе',\n",
       " 'себя',\n",
       " 'собой',\n",
       " 'собою',\n",
       " 'та',\n",
       " 'так',\n",
       " 'такая',\n",
       " 'такие',\n",
       " 'таким',\n",
       " 'такими',\n",
       " 'таких',\n",
       " 'такого',\n",
       " 'такое',\n",
       " 'такой',\n",
       " 'таком',\n",
       " 'такому',\n",
       " 'такою',\n",
       " 'такую',\n",
       " 'те',\n",
       " 'тебе',\n",
       " 'тебя',\n",
       " 'тем',\n",
       " 'теми',\n",
       " 'тех',\n",
       " 'то',\n",
       " 'тобой',\n",
       " 'тобою',\n",
       " 'того',\n",
       " 'той',\n",
       " 'только',\n",
       " 'том',\n",
       " 'томах',\n",
       " 'тому',\n",
       " 'тот',\n",
       " 'тою',\n",
       " 'ту',\n",
       " 'ты',\n",
       " 'у',\n",
       " 'уже',\n",
       " 'чего',\n",
       " 'чем',\n",
       " 'чём',\n",
       " 'чему',\n",
       " 'что',\n",
       " 'чтобы',\n",
       " 'эта',\n",
       " 'эти',\n",
       " 'этим',\n",
       " 'этими',\n",
       " 'этих',\n",
       " 'это',\n",
       " 'этого',\n",
       " 'этой',\n",
       " 'этом',\n",
       " 'этому',\n",
       " 'этот',\n",
       " 'этою',\n",
       " 'эту',\n",
       " 'я']"
      ]
     },
     "execution_count": 11,
     "metadata": {},
     "output_type": "execute_result"
    }
   ],
   "source": [
    "stop_words = [x.strip() for x in open('stop.txt','r', encoding='utf-8').read().split('\\n')]\n",
    "stop_words"
   ]
  },
  {
   "cell_type": "markdown",
   "metadata": {},
   "source": [
    "### Готовим pipeline"
   ]
  },
  {
   "cell_type": "code",
   "execution_count": 12,
   "metadata": {},
   "outputs": [],
   "source": [
    "from sklearn.feature_extraction.text import TfidfVectorizer\n",
    "from sklearn.pipeline import Pipeline\n",
    "from sklearn.naive_bayes import MultinomialNB\n",
    "\n",
    "pipe = Pipeline([('vectorizer', TfidfVectorizer(stop_words=stop_words)),\n",
    "                ('classifier', MultinomialNB())])"
   ]
  },
  {
   "cell_type": "markdown",
   "metadata": {},
   "source": [
    "### Для проверки разных токенов сделаем кросс-валидацию"
   ]
  },
  {
   "cell_type": "code",
   "execution_count": 13,
   "metadata": {},
   "outputs": [],
   "source": [
    "from sklearn.model_selection import GridSearchCV\n",
    "from sklearn.model_selection import KFold\n",
    "from sklearn.metrics import f1_score\n",
    "from sklearn.metrics import make_scorer\n",
    "\n",
    "kfold = KFold(n_splits=4,shuffle=True,random_state=42)\n",
    "\n",
    "param_grid = {'vectorizer__token_pattern': ['(?u)\\\\b[А-Яа-я0-9\\-][А-Яа-я0-9\\-]+\\\\b', '(?u)\\\\b\\\\w\\\\w+\\\\b', '(?u)\\\\b[А-Яа-я][А-Яа-я]+\\\\b']}\n",
    "\n",
    "grid = GridSearchCV(pipe, param_grid, scoring=make_scorer(f1_score), cv=kfold)\n",
    "grid = grid.fit(X_train,y_train)\n"
   ]
  },
  {
   "cell_type": "code",
   "execution_count": 14,
   "metadata": {},
   "outputs": [
    {
     "name": "stdout",
     "output_type": "stream",
     "text": [
      "For token ' (?u)\\b[А-Яа-я0-9\\-][А-Яа-я0-9\\-]+\\b ' result is  0.723001517551\n",
      "For token ' (?u)\\b\\w\\w+\\b ' result is  0.741970286575\n",
      "For token ' (?u)\\b[А-Яа-я][А-Яа-я]+\\b ' result is  0.722015220014\n"
     ]
    }
   ],
   "source": [
    "tokens = grid.cv_results_['param_vectorizer__token_pattern']\n",
    "f1s = grid.cv_results_['mean_test_score']\n",
    "for i in range(0, len(tokens)):\n",
    "    print(\"For token '\", tokens[i], \"' result is \", f1s[i])"
   ]
  },
  {
   "cell_type": "markdown",
   "metadata": {},
   "source": [
    "### Победил стандартный токен. Используем его"
   ]
  },
  {
   "cell_type": "code",
   "execution_count": 15,
   "metadata": {},
   "outputs": [
    {
     "data": {
      "text/plain": [
       "Pipeline(steps=[('vectorizer', TfidfVectorizer(analyzer='word', binary=False, decode_error='strict',\n",
       "        dtype=<class 'numpy.int64'>, encoding='utf-8', input='content',\n",
       "        lowercase=True, max_df=1.0, max_features=None, min_df=1,\n",
       "        ngram_range=(1, 1), norm='l2', preprocessor=None, smooth_idf=Tr...      vocabulary=None)), ('classifier', MultinomialNB(alpha=1.0, class_prior=None, fit_prior=True))])"
      ]
     },
     "execution_count": 15,
     "metadata": {},
     "output_type": "execute_result"
    }
   ],
   "source": [
    "pipe.fit(X_train, y_train)"
   ]
  },
  {
   "cell_type": "code",
   "execution_count": 16,
   "metadata": {},
   "outputs": [],
   "source": [
    "predicted = pipe.predict(X_test)"
   ]
  },
  {
   "cell_type": "code",
   "execution_count": 17,
   "metadata": {},
   "outputs": [
    {
     "name": "stdout",
     "output_type": "stream",
     "text": [
      "             precision    recall  f1-score   support\n",
      "\n",
      "         -1       0.74      0.77      0.76     22501\n",
      "          1       0.77      0.74      0.75     22866\n",
      "\n",
      "avg / total       0.75      0.75      0.75     45367\n",
      "\n"
     ]
    }
   ],
   "source": [
    "import sklearn.metrics\n",
    "print(sklearn.metrics.classification_report(y_test, predicted))"
   ]
  },
  {
   "cell_type": "code",
   "execution_count": 18,
   "metadata": {},
   "outputs": [
    {
     "data": {
      "text/plain": [
       "array([[17321,  5180],\n",
       "       [ 5994, 16872]])"
      ]
     },
     "execution_count": 18,
     "metadata": {},
     "output_type": "execute_result"
    }
   ],
   "source": [
    "sklearn.metrics.confusion_matrix(y_test, predicted)"
   ]
  },
  {
   "cell_type": "code",
   "execution_count": null,
   "metadata": {
    "collapsed": true
   },
   "outputs": [],
   "source": []
  },
  {
   "cell_type": "code",
   "execution_count": null,
   "metadata": {
    "collapsed": true
   },
   "outputs": [],
   "source": []
  }
 ],
 "metadata": {
  "kernelspec": {
   "display_name": "Python 3",
   "language": "python",
   "name": "python3"
  },
  "language_info": {
   "codemirror_mode": {
    "name": "ipython",
    "version": 3
   },
   "file_extension": ".py",
   "mimetype": "text/x-python",
   "name": "python",
   "nbconvert_exporter": "python",
   "pygments_lexer": "ipython3",
   "version": "3.6.1"
  }
 },
 "nbformat": 4,
 "nbformat_minor": 2
}
