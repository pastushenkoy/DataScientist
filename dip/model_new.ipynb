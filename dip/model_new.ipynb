{
 "cells": [
  {
   "cell_type": "markdown",
   "metadata": {},
   "source": [
    "## Импорты"
   ]
  },
  {
   "cell_type": "code",
   "execution_count": 1,
   "metadata": {},
   "outputs": [
    {
     "name": "stderr",
     "output_type": "stream",
     "text": [
      "C:\\ProgramData\\Anaconda3\\lib\\site-packages\\sklearn\\cross_validation.py:41: DeprecationWarning: This module was deprecated in version 0.18 in favor of the model_selection module into which all the refactored classes and functions are moved. Also note that the interface of the new CV iterators are different from that of this module. This module will be removed in 0.20.\n",
      "  \"This module will be removed in 0.20.\", DeprecationWarning)\n"
     ]
    },
    {
     "name": "stdout",
     "output_type": "stream",
     "text": [
      "Populating the interactive namespace from numpy and matplotlib\n"
     ]
    },
    {
     "name": "stderr",
     "output_type": "stream",
     "text": [
      "C:\\ProgramData\\Anaconda3\\lib\\site-packages\\sklearn\\grid_search.py:42: DeprecationWarning: This module was deprecated in version 0.18 in favor of the model_selection module into which all the refactored classes and functions are moved. This module will be removed in 0.20.\n",
      "  DeprecationWarning)\n"
     ]
    }
   ],
   "source": [
    "import pandas as pd\n",
    "import numpy as np\n",
    "import sklearn\n",
    "import xgboost as xgb\n",
    "import matplotlib.pyplot as plt\n",
    "import seaborn as sbn\n",
    "\n",
    "from sklearn.model_selection import train_test_split\n",
    "from sklearn.metrics import roc_curve, auc, precision_recall_curve\n",
    "from sklearn.metrics import accuracy_score\n",
    "from sklearn.ensemble import RandomForestClassifier\n",
    "from sklearn.metrics import roc_auc_score\n",
    "from sklearn.metrics import make_scorer\n",
    "from sklearn.model_selection import KFold\n",
    "\n",
    "# from user_agents import parse\n",
    "\n",
    "import datetime\n",
    "\n",
    "from sklearn.tree import DecisionTreeClassifier\n",
    "from sklearn import grid_search\n",
    "from sklearn import tree\n",
    "\n",
    "from sklearn import grid_search\n",
    "from sklearn.tree import _tree\n",
    "\n",
    "from sklearn.tree import export_graphviz\n",
    "\n",
    "%pylab inline"
   ]
  },
  {
   "cell_type": "markdown",
   "metadata": {},
   "source": [
    "## Объявления полезных функций"
   ]
  },
  {
   "cell_type": "code",
   "execution_count": 2,
   "metadata": {
    "collapsed": true
   },
   "outputs": [],
   "source": [
    "def log_mes(mes):\n",
    "    \"\"\"Выводит таймстемп и переданное сообщение\"\"\"\n",
    "    print(datetime.datetime.now().strftime(\"%H:%M:%S %d.%m.%Y\"), mes)"
   ]
  },
  {
   "cell_type": "code",
   "execution_count": 74,
   "metadata": {
    "collapsed": true
   },
   "outputs": [],
   "source": [
    "def plot_roc_curve(y, y_pred, color, name):\n",
    "    fpr_moscow, tpr_moscow, _ = roc_curve(y, y_pred[:, 1])\n",
    "    roc_auc = roc_auc_score(y, y_pred[:, 1])\n",
    "    plt.plot(fpr_moscow, tpr_moscow, color=color, lw=2, label='{0} (AUC = {1:0.4f})'.format(name, roc_auc))\n",
    "\n",
    "    plt.ylim([0, 1])\n",
    "    plt.xlim([0, 1])\n",
    "    plt.xticks(arange(6)/5)\n",
    "    plt.yticks(arange(6)/5)\n",
    "    plt.grid(linestyle='-')\n",
    "    \n",
    "    plt.xlabel('False positive')\n",
    "    plt.ylabel('True positive')\n",
    "    plt.legend(loc=4, prop={'size': 20})"
   ]
  },
  {
   "cell_type": "code",
   "execution_count": 80,
   "metadata": {
    "collapsed": true
   },
   "outputs": [],
   "source": [
    "def plot_precision_recall(fig, y_test, y_pred, title, i, n):\n",
    "    subplot = fig.add_subplot(n,1,i)\n",
    "    precision, recall, thresholds = precision_recall_curve(y_test, y_pred[:,1])\n",
    "    plt.step(recall, precision, color='blue', lw=1)\n",
    "    plt.fill_between(recall, precision, step='pre', alpha=0.2, color='blue')\n",
    "    plt.ylim([0, 1])\n",
    "    plt.xlim([0, 1])\n",
    "\n",
    "    subplot.yaxis.grid()\n",
    "    subplot.xaxis.grid()\n",
    "    subplot.set_xticklabels([])\n",
    "    subplot.set_title(title)"
   ]
  },
  {
   "cell_type": "markdown",
   "metadata": {},
   "source": [
    "## 1. Чтение выгрузки"
   ]
  },
  {
   "cell_type": "code",
   "execution_count": 3,
   "metadata": {
    "collapsed": true,
    "scrolled": true
   },
   "outputs": [],
   "source": [
    "metabase_unload = pd.read_csv('unloads/unload.csv', delimiter=\",\")"
   ]
  },
  {
   "cell_type": "code",
   "execution_count": 4,
   "metadata": {
    "collapsed": true
   },
   "outputs": [],
   "source": [
    "# Юзер-агент пока не использую, т.к. он очень долго анализируется\n",
    "# metabase_unload['device'] = metabase_unload.apply(lambda x: parse(x['user_agent']).device if pd.isnull(x['user_agent']) == False else \"None\", axis=1)\n",
    "# metabase_unload['os_version'] = metabase_unload.apply(lambda x: parse(x['user_agent']).os.version if pd.isnull(x['user_agent']) == False else \"None\", axis=1)\n",
    "metabase_unload = metabase_unload.drop('user_agent', axis=1)"
   ]
  },
  {
   "cell_type": "code",
   "execution_count": 5,
   "metadata": {},
   "outputs": [
    {
     "data": {
      "text/plain": [
       "22857"
      ]
     },
     "execution_count": 5,
     "metadata": {},
     "output_type": "execute_result"
    }
   ],
   "source": [
    "metabase_unload.where((metabase_unload[\"has_phone\"] == False), axis = 1).dropna().size"
   ]
  },
  {
   "cell_type": "code",
   "execution_count": 6,
   "metadata": {
    "collapsed": true
   },
   "outputs": [],
   "source": [
    "metabase_unload = metabase_unload.drop([\"is_moscow_school\", \"school_id\"], axis=1)"
   ]
  },
  {
   "cell_type": "code",
   "execution_count": 7,
   "metadata": {},
   "outputs": [
    {
     "name": "stdout",
     "output_type": "stream",
     "text": [
      "<class 'pandas.core.frame.DataFrame'>\n",
      "RangeIndex: 1048576 entries, 0 to 1048575\n",
      "Data columns (total 17 columns):\n",
      "user_id                           1048576 non-null int64\n",
      "has_paid                          1048576 non-null int64\n",
      "reg_page                          983876 non-null object\n",
      "reason                            107570 non-null float64\n",
      "teacher                           107570 non-null float64\n",
      "time                              107570 non-null float64\n",
      "best_statement                    107570 non-null float64\n",
      "signed_up_on_weekend_day          1048576 non-null int64\n",
      "signed_up_at_night_interval       1048576 non-null int64\n",
      "source_group_id                   1048576 non-null int64\n",
      "grade_id                          1048576 non-null int64\n",
      "has_birth_date                    1048576 non-null int64\n",
      "is_parent                         1048576 non-null int64\n",
      "has_phone                         1048576 non-null int64\n",
      "phone_confirmed                   1048576 non-null int64\n",
      "address_entered_before_payment    1048576 non-null int64\n",
      "region_id                         55968 non-null float64\n",
      "dtypes: float64(5), int64(11), object(1)\n",
      "memory usage: 136.0+ MB\n"
     ]
    }
   ],
   "source": [
    "metabase_unload.info()"
   ]
  },
  {
   "cell_type": "markdown",
   "metadata": {},
   "source": [
    "## 2. Создание модели"
   ]
  },
  {
   "cell_type": "code",
   "execution_count": 94,
   "metadata": {},
   "outputs": [],
   "source": [
    "class Model:\n",
    "    def __init__(self):\n",
    "        self._init_values()\n",
    "        \n",
    "        \n",
    "    def fit(self, X_train, y_train):\n",
    "        \"\"\"\n",
    "        1. Counts woe's \n",
    "        2. Binarieses category columns\n",
    "        3. Fits XGBoost classifier\n",
    "        \"\"\"\n",
    "        self._model_has_been_fit = False\n",
    "        self._init_values()\n",
    "        self._X_train = X_train\n",
    "        self._y_train = y_train\n",
    "        self._count_all_woe()\n",
    "        self._create_and_fit_model()\n",
    "        self._model_has_been_fit = True\n",
    "        return self\n",
    "        \n",
    "    def predict_proba(self, X_test):\n",
    "        \"\"\"\n",
    "        Predicts probability of 'has_paid' column\n",
    "        \"\"\"\n",
    "        if not self._model_has_been_fit:\n",
    "            raise RuntimeError(\"Model has not been fit. Prediction is impossible.\")\n",
    "            \n",
    "        self._X_test = X_test\n",
    "        return self._predict_proba()\n",
    "        \n",
    "    def plot_importance(self):\n",
    "        \"\"\"\n",
    "        Plots XGBoost feature importance\n",
    "        \"\"\"\n",
    "        if not self._model_has_been_fit:\n",
    "            raise RuntimeError(\"Model has not been fit. Plotting is impossible.\")\n",
    "\n",
    "            fig = plt.figure(figsize=(15, 10))\n",
    "        xgb.plot_importance(booster=self._model)    \n",
    "    \n",
    "    def get_tree(self, depht):\n",
    "        \"\"\"\n",
    "        Fits decision tree classifier and returns graphviz tree in text\n",
    "        \"\"\"\n",
    "        if not self._model_has_been_fit:\n",
    "            raise RuntimeError(\"Model has not been fit. Drawing tree is impossible.\")\n",
    "\n",
    "        tree_clf = DecisionTreeClassifier(max_depth=depht)\n",
    "        tree_clf.fit(self._X_train, self._y_train)\n",
    "        return (export_graphviz(tree_clf, out_file=None, filled=True, feature_names=list(self._X_train.columns)))\n",
    "    \n",
    "    def _init_values(self):\n",
    "        self._woe_dataframes = {}\n",
    "        self._model_has_been_fit = False\n",
    "    \n",
    "    def _create_and_fit_model(self):\n",
    "        self._X_train = self._transform_dataframe(self._X_train)\n",
    "\n",
    "        # Модель\n",
    "        self._model = xgb.XGBClassifier()\n",
    "        self._model.fit(self._X_train, self._y_train)\n",
    "        \n",
    "    def _predict_proba(self):\n",
    "        self._X_test = self._transform_dataframe(self._X_test)\n",
    "\n",
    "        return self._model.predict_proba(self._X_test)\n",
    "\n",
    "    def _count_all_woe(self):\n",
    "        # Считаем woe-колонки\n",
    "        woe_columns = ['source_group_id', 'region_id', 'reg_page', 'reason', 'teacher', 'time', 'best_statement']\n",
    "        for column in woe_columns:\n",
    "            self._count_woe(column)\n",
    "    \n",
    "    def _transform_dataframe(self, X):\n",
    "        X = self._join_woe(X)\n",
    "        X = self._drop_user_and_target(X)\n",
    "        X = self._binarize_category_cols(X)\n",
    "        return X\n",
    "\n",
    "    def _drop_user_and_target(self, X):\n",
    "        return X.drop(['has_paid', 'user_id'], axis = 1)\n",
    "    \n",
    "    def _binarize_category_cols(self, X):\n",
    "        category_cols = ['grade_id']\n",
    "        return pd.get_dummies(X, columns=category_cols, drop_first=True)\n",
    "        \n",
    "    def _count_woe(self, column_name):\n",
    "        \"\"\"\n",
    "        Counts woe for passed column name in train dataset.\n",
    "        Result stores in self._woe_dataframes\n",
    "        \"\"\"\n",
    "        threshold = 100\n",
    "\n",
    "        # расчет общего количества положительных и отрицательных событий\n",
    "        paid_size = len(self._X_train[self._X_train['has_paid'] == 1])\n",
    "        not_paid_size = len(self._X_train[self._X_train['has_paid'] == 0])\n",
    "\n",
    "        # имя колонки, в которую будет помещен результат расчета\n",
    "        woe_column_name = column_name + '_woe'\n",
    "\n",
    "        # расчет общего количества пользователей и количества положительных событий для каждой категории\n",
    "        woe_ds = self._X_train\\\n",
    "            .groupby([column_name])\\\n",
    "            .agg({'user_id':'size', 'has_paid':'sum'})\\\n",
    "            .reset_index()\\\n",
    "            .rename(columns={'user_id':'total'})\n",
    "\n",
    "        # отсекаем категории, в которых количество пользователей не превышает 100 и категории, \n",
    "        # в которых нет ни одного положительного события\n",
    "        woe_ds = woe_ds[(woe_ds['total'] > threshold) & (woe_ds['has_paid'] > 0)]\n",
    "\n",
    "        # расчитываем количество отрицательных событий для каждой из категорий\n",
    "        woe_ds['has_not_paid'] = woe_ds.apply(lambda x: x.total - x.has_paid, axis=1)\n",
    "\n",
    "        # рассчитываем WOE\n",
    "        woe_ds[\"woe_value\"] = woe_ds\\\n",
    "            .apply(lambda x: math.log((x.has_paid/paid_size)/(x.has_not_paid/not_paid_size)), axis=1)\n",
    "\n",
    "        # удаляем промежуточные колонки для расчета\n",
    "        woe_ds = woe_ds.drop(['has_paid', 'has_not_paid', 'total'], axis=1)\n",
    "\n",
    "        self._woe_dataframes[column_name] = woe_ds\n",
    "        \n",
    "    def _join_woe(self, X):\n",
    "        \"\"\"\n",
    "        Joins woe from self._woe_dataframes to passed dataset\n",
    "        \"\"\"\n",
    "        for column_name, woe_df in self._woe_dataframes.items():\n",
    "            woe_column_name = column_name + '_woe'\n",
    "            \n",
    "            # джоиним woe\n",
    "            rename = {'woe_value': woe_column_name}\n",
    "            X = X.merge(woe_df.rename(columns=rename), how='left', left_on=column_name, right_on=column_name)\n",
    "            \n",
    "            # удаляем старую категориальную колонку\n",
    "            X = X.drop(column_name, axis=1)\n",
    "            \n",
    "            # заполняем незаполненные значения медианами\n",
    "            median = np.median(X[woe_column_name].dropna())\n",
    "            X[woe_column_name] = X[woe_column_name].fillna(median)\n",
    "\n",
    "        return X"
   ]
  },
  {
   "cell_type": "code",
   "execution_count": 66,
   "metadata": {
    "collapsed": true
   },
   "outputs": [],
   "source": [
    "def validation_pipeline(df, splits=3, shuffle=False, random_state=None):\n",
    "    \"\"\"\n",
    "    Doing cross-validation\n",
    "    \"\"\"\n",
    "    # Выделяем целевую переменную\n",
    "    y = df['has_paid']\n",
    "    X = df\n",
    "\n",
    "    # строим кросс-валидацию\n",
    "    kfold = KFold(n_splits=splits,shuffle=shuffle,random_state=random_state)\n",
    "    \n",
    "    log_mes('Validation begins')\n",
    "    \n",
    "    # обходим получившиеся сэмплы\n",
    "    s_num = 1\n",
    "    for train_index, test_index in kfold.split(X):\n",
    "        # создаем сэмплы для теста и трейна\n",
    "        X_train = X.loc[train_index]\n",
    "        X_test = X.loc[test_index]\n",
    "        y_train, y_test = y[train_index], y[test_index]\n",
    "\n",
    "        # создаем и обучаем модель\n",
    "        model = Model()\n",
    "        model.fit(X_train, y_train)\n",
    "\n",
    "        # делаем предсказание\n",
    "        y_test_pred = model.predict_proba(X_test)\n",
    "\n",
    "        # считаем roc-auc\n",
    "        roc_auc_test = roc_auc_score(y_test, y_test_pred[:,1])\n",
    "        log_mes('Sample {0}. AUC = {1}'.format(s_num, roc_auc_test))\n",
    "        \n",
    "        s_num += 1\n",
    "        \n",
    "    log_mes('Validation finished')"
   ]
  },
  {
   "cell_type": "markdown",
   "metadata": {},
   "source": [
    "## 3. Запуск и анализ результатов модели на всей выборке со случайным разделением на тренировочную и тестовую выборку"
   ]
  },
  {
   "cell_type": "markdown",
   "metadata": {},
   "source": [
    "### 3.1. Сначала проведем кросс-валидацию и убедимся, что модель устойчива"
   ]
  },
  {
   "cell_type": "code",
   "execution_count": 69,
   "metadata": {},
   "outputs": [],
   "source": [
    "validation_pipeline(metabase_unload, splits=4, shuffle=True, random_state=42)"
   ]
  },
  {
   "cell_type": "markdown",
   "metadata": {},
   "source": [
    "### 3.2. Сформируем случайный тестовый набор данных"
   ]
  },
  {
   "cell_type": "code",
   "execution_count": 27,
   "metadata": {},
   "outputs": [],
   "source": [
    "# Выделяем целевую переменную\n",
    "y = metabase_unload['has_paid']\n",
    "X = metabase_unload\n",
    "\n",
    "# Делим на train и test\n",
    "X_train, X_test, y_train, y_test = sklearn.model_selection.train_test_split(X, y, test_size=0.2, random_state=42)"
   ]
  },
  {
   "cell_type": "markdown",
   "metadata": {},
   "source": [
    "### 3.3. Обучим модель и сделаем предсказание"
   ]
  },
  {
   "cell_type": "code",
   "execution_count": 95,
   "metadata": {},
   "outputs": [],
   "source": [
    "model = Model()\n",
    "model.fit(X_train, y_train)\n",
    "\n",
    "y_test_pred = model.predict_proba(X_test)\n",
    "y_train_pred = model.predict_proba(X_train)"
   ]
  },
  {
   "cell_type": "markdown",
   "metadata": {},
   "source": [
    "### 3.4. Выведем результаты на roc-кривую"
   ]
  },
  {
   "cell_type": "code",
   "execution_count": 75,
   "metadata": {},
   "outputs": [
    {
     "data": {
      "image/png": "[encoded data removed]",
      "text/plain": [
       "<matplotlib.figure.Figure at 0x1f278ab9278>"
      ]
     },
     "metadata": {},
     "output_type": "display_data"
    }
   ],
   "source": [
    "fig = plt.figure(figsize=(10, 5))\n",
    "plot_roc_curve(y_test, y_test_pred, 'blue', 'Test')\n",
    "plot_roc_curve(y_train, y_train_pred, 'darkorange', 'Train')"
   ]
  },
  {
   "cell_type": "markdown",
   "metadata": {},
   "source": [
    "### 3.5. Выведем результаты на кривую Precision-Recall"
   ]
  },
  {
   "cell_type": "code",
   "execution_count": 83,
   "metadata": {},
   "outputs": [
    {
     "data": {
      "image/png": "[encoded data removed]",
      "text/plain": [
       "<matplotlib.figure.Figure at 0x1f26f852a58>"
      ]
     },
     "metadata": {},
     "output_type": "display_data"
    }
   ],
   "source": [
    "fig = plt.figure(figsize=[20, 10])\n",
    "ax = plt.axes()\n",
    "ax.set_yticks([])\n",
    "ax.set_ylabel('Precision')\n",
    "ax.set_xlabel('Recall')\n",
    "\n",
    "plot_precision_recall(fig, y_test, y_test_pred, 'Test', 1, 2)\n",
    "plot_precision_recall(fig, y_train, y_train_pred, 'Train', 2, 2)"
   ]
  },
  {
   "cell_type": "markdown",
   "metadata": {},
   "source": [
    "### 3.6. Выведем важность фич"
   ]
  },
  {
   "cell_type": "code",
   "execution_count": 92,
   "metadata": {},
   "outputs": [
    {
     "data": {
      "image/png": "[encoded data removed]",
      "text/plain": [
       "<matplotlib.figure.Figure at 0x1f278d051d0>"
      ]
     },
     "metadata": {},
     "output_type": "display_data"
    }
   ],
   "source": [
    "model.plot_importance()"
   ]
  },
  {
   "cell_type": "markdown",
   "metadata": {},
   "source": [
    "### 3.7. Формирование дерева решений для graphviz\n",
    "http://www.webgraphviz.com/"
   ]
  },
  {
   "cell_type": "code",
   "execution_count": 99,
   "metadata": {},
   "outputs": [
    {
     "name": "stdout",
     "output_type": "stream",
     "text": [
      "digraph Tree {\n",
      "node [shape=box, style=\"filled\", color=\"black\"] ;\n",
      "0 [label=\"region_id_woe <= 2.318\\ngini = 0.052\\nsamples = 838860\\nvalue = [816336, 22524]\", fillcolor=\"#e58139f8\"] ;\n",
      "1 [label=\"region_id_woe <= 2.268\\ngini = 0.04\\nsamples = 819788\\nvalue = [802899, 16889]\", fillcolor=\"#e58139fa\"] ;\n",
      "0 -> 1 [labeldistance=2.5, labelangle=45, headlabel=\"True\"] ;\n",
      "2 [label=\"address_entered_before_payment <= 0.5\\ngini = 0.258\\nsamples = 21340\\nvalue = [18099, 3241]\", fillcolor=\"#e58139d1\"] ;\n",
      "1 -> 2 ;\n",
      "3 [label=\"reg_page_woe <= -2.121\\ngini = 0.5\\nsamples = 5253\\nvalue = [2656, 2597]\", fillcolor=\"#e5813906\"] ;\n",
      "2 -> 3 ;\n",
      "4 [label=\"gini = 0.181\\nsamples = 308\\nvalue = [277, 31]\", fillcolor=\"#e58139e2\"] ;\n",
      "3 -> 4 ;\n",
      "5 [label=\"gini = 0.499\\nsamples = 4945\\nvalue = [2379, 2566]\", fillcolor=\"#399de513\"] ;\n",
      "3 -> 5 ;\n",
      "6 [label=\"grade_id_11 <= 0.5\\ngini = 0.077\\nsamples = 16087\\nvalue = [15443, 644]\", fillcolor=\"#e58139f4\"] ;\n",
      "2 -> 6 ;\n",
      "7 [label=\"gini = 0.023\\nsamples = 8240\\nvalue = [8145, 95]\", fillcolor=\"#e58139fc\"] ;\n",
      "6 -> 7 ;\n",
      "8 [label=\"gini = 0.13\\nsamples = 7847\\nvalue = [7298, 549]\", fillcolor=\"#e58139ec\"] ;\n",
      "6 -> 8 ;\n",
      "9 [label=\"reg_page_woe <= 1.776\\ngini = 0.034\\nsamples = 798448\\nvalue = [784800, 13648]\", fillcolor=\"#e58139fb\"] ;\n",
      "1 -> 9 ;\n",
      "10 [label=\"reg_page_woe <= -0.581\\ngini = 0.03\\nsamples = 789568\\nvalue = [777464, 12104]\", fillcolor=\"#e58139fb\"] ;\n",
      "9 -> 10 ;\n",
      "11 [label=\"gini = 0.004\\nsamples = 262161\\nvalue = [261588, 573]\", fillcolor=\"#e58139fe\"] ;\n",
      "10 -> 11 ;\n",
      "12 [label=\"gini = 0.043\\nsamples = 527407\\nvalue = [515876, 11531]\", fillcolor=\"#e58139f9\"] ;\n",
      "10 -> 12 ;\n",
      "13 [label=\"reg_page_woe <= 3.412\\ngini = 0.287\\nsamples = 8880\\nvalue = [7336, 1544]\", fillcolor=\"#e58139c9\"] ;\n",
      "9 -> 13 ;\n",
      "14 [label=\"gini = 0.266\\nsamples = 8485\\nvalue = [7145, 1340]\", fillcolor=\"#e58139cf\"] ;\n",
      "13 -> 14 ;\n",
      "15 [label=\"gini = 0.499\\nsamples = 395\\nvalue = [191, 204]\", fillcolor=\"#399de510\"] ;\n",
      "13 -> 15 ;\n",
      "16 [label=\"address_entered_before_payment <= 0.5\\ngini = 0.416\\nsamples = 19072\\nvalue = [13437, 5635]\", fillcolor=\"#e5813994\"] ;\n",
      "0 -> 16 [labeldistance=2.5, labelangle=-45, headlabel=\"False\"] ;\n",
      "17 [label=\"reg_page_woe <= 2.21\\ngini = 0.486\\nsamples = 7789\\nvalue = [3233, 4556]\", fillcolor=\"#399de54a\"] ;\n",
      "16 -> 17 ;\n",
      "18 [label=\"reg_page_woe <= -0.621\\ngini = 0.497\\nsamples = 6534\\nvalue = [3012, 3522]\", fillcolor=\"#399de525\"] ;\n",
      "17 -> 18 ;\n",
      "19 [label=\"gini = 0.227\\nsamples = 260\\nvalue = [226, 34]\", fillcolor=\"#e58139d9\"] ;\n",
      "18 -> 19 ;\n",
      "20 [label=\"gini = 0.494\\nsamples = 6274\\nvalue = [2786, 3488]\", fillcolor=\"#399de533\"] ;\n",
      "18 -> 20 ;\n",
      "21 [label=\"phone_confirmed <= 0.5\\ngini = 0.29\\nsamples = 1255\\nvalue = [221, 1034]\", fillcolor=\"#399de5c8\"] ;\n",
      "17 -> 21 ;\n",
      "22 [label=\"gini = 0.468\\nsamples = 115\\nvalue = [43, 72]\", fillcolor=\"#399de567\"] ;\n",
      "21 -> 22 ;\n",
      "23 [label=\"gini = 0.264\\nsamples = 1140\\nvalue = [178, 962]\", fillcolor=\"#399de5d0\"] ;\n",
      "21 -> 23 ;\n",
      "24 [label=\"grade_id_11 <= 0.5\\ngini = 0.173\\nsamples = 11283\\nvalue = [10204, 1079]\", fillcolor=\"#e58139e4\"] ;\n",
      "16 -> 24 ;\n",
      "25 [label=\"source_group_id_woe <= 0.111\\ngini = 0.042\\nsamples = 4705\\nvalue = [4604, 101]\", fillcolor=\"#e58139f9\"] ;\n",
      "24 -> 25 ;\n",
      "26 [label=\"gini = 0.032\\nsamples = 3944\\nvalue = [3880, 64]\", fillcolor=\"#e58139fb\"] ;\n",
      "25 -> 26 ;\n",
      "27 [label=\"gini = 0.093\\nsamples = 761\\nvalue = [724, 37]\", fillcolor=\"#e58139f2\"] ;\n",
      "25 -> 27 ;\n",
      "28 [label=\"reg_page_woe <= 2.017\\ngini = 0.253\\nsamples = 6578\\nvalue = [5600, 978]\", fillcolor=\"#e58139d2\"] ;\n",
      "24 -> 28 ;\n",
      "29 [label=\"gini = 0.235\\nsamples = 6164\\nvalue = [5327, 837]\", fillcolor=\"#e58139d7\"] ;\n",
      "28 -> 29 ;\n",
      "30 [label=\"gini = 0.449\\nsamples = 414\\nvalue = [273, 141]\", fillcolor=\"#e581397b\"] ;\n",
      "28 -> 30 ;\n",
      "}\n"
     ]
    }
   ],
   "source": [
    "print(model.get_tree(4))"
   ]
  },
  {
   "cell_type": "markdown",
   "metadata": {},
   "source": [
    "### 3.8. Промежуточные итоги\n",
    "Модель показывает устойчивые результаты на всей выборке. Roc-кривая и кривая precision-recall говорят о хорошей вероятности предсказания целевого события. <br>\n",
    "Наиболее важные признаки для XGBoost: страница регистрации, регион и канал продвижения.<br>\n",
    "Дерево принятия решений показывает несколько другой список важных признаков. С XGBoost совпали страница регистрации и регион, но в другом порядке."
   ]
  },
  {
   "cell_type": "code",
   "execution_count": null,
   "metadata": {
    "collapsed": true
   },
   "outputs": [],
   "source": []
  },
  {
   "cell_type": "markdown",
   "metadata": {
    "collapsed": true
   },
   "source": [
    "## Следующие задачи\n",
    "4. Обучить и сделать предсказания для временного сэмпла\n",
    "5. Уменьшить интервал трейна для временного интервала настолько насколько получится без последствий для точности\n",
    "6. Попытаться сделать предсказание отдельно для пользователей, у которых введен телефон и для пользователей, у которых не введен. Сравнить получившиеся предсказания с предсказаниями без разделения."
   ]
  },
  {
   "cell_type": "code",
   "execution_count": 11,
   "metadata": {
    "collapsed": true
   },
   "outputs": [],
   "source": []
  },
  {
   "cell_type": "code",
   "execution_count": 77,
   "metadata": {},
   "outputs": [],
   "source": []
  },
  {
   "cell_type": "code",
   "execution_count": 12,
   "metadata": {
    "collapsed": true
   },
   "outputs": [],
   "source": []
  },
  {
   "cell_type": "code",
   "execution_count": 104,
   "metadata": {
    "collapsed": true
   },
   "outputs": [],
   "source": []
  },
  {
   "cell_type": "code",
   "execution_count": null,
   "metadata": {
    "collapsed": true
   },
   "outputs": [],
   "source": []
  },
  {
   "cell_type": "code",
   "execution_count": 91,
   "metadata": {
    "collapsed": true
   },
   "outputs": [],
   "source": []
  },
  {
   "cell_type": "markdown",
   "metadata": {},
   "source": []
  },
  {
   "cell_type": "markdown",
   "metadata": {},
   "source": [
    "* ROC-AUC\n",
    "6. Feature importance\n",
    "7. Дерево принятия решений\n",
    "1. Выводить предикт на трейн\n",
    "2. Кросс-валидация\n",
    "4. Взять данные за год и смотрим не упадет ликачество модели\n",
    "5. брать данные за 4 месяца и предсказать 2 недели\n",
    "8. Порог отсечения\n",
    "9. Определить имена и фамилии\n",
    "11. Зафитить только людей, у которых нет телефонов\n",
    "12. Зафитить только людей, у которых есть телефоны"
   ]
  },
  {
   "cell_type": "code",
   "execution_count": 97,
   "metadata": {},
   "outputs": [
    {
     "data": {
      "application/javascript": [
       "IPython.OutputArea.prototype._should_scroll = function(lines) {\n",
       "    return false;\n",
       "}"
      ],
      "text/plain": [
       "<IPython.core.display.Javascript object>"
      ]
     },
     "metadata": {},
     "output_type": "display_data"
    }
   ],
   "source": [
    "%%javascript\n",
    "IPython.OutputArea.prototype._should_scroll = function(lines) {\n",
    "    return false;\n",
    "}\n"
   ]
  },
  {
   "cell_type": "code",
   "execution_count": null,
   "metadata": {
    "collapsed": true
   },
   "outputs": [],
   "source": []
  }
 ],
 "metadata": {
  "kernelspec": {
   "display_name": "Python 3",
   "language": "python",
   "name": "python3"
  },
  "language_info": {
   "codemirror_mode": {
    "name": "ipython",
    "version": 3
   },
   "file_extension": ".py",
   "mimetype": "text/x-python",
   "name": "python",
   "nbconvert_exporter": "python",
   "pygments_lexer": "ipython3",
   "version": "3.6.3"
  }
 },
 "nbformat": 4,
 "nbformat_minor": 2
}
