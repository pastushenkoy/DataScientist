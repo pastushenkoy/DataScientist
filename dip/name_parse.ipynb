{
 "cells": [
  {
   "cell_type": "code",
   "execution_count": 7,
   "metadata": {
    "collapsed": true
   },
   "outputs": [],
   "source": [
    "import urllib3\n",
    "from bs4 import BeautifulSoup\n",
    "import json\n",
    "import io\n",
    "import urllib"
   ]
  },
  {
   "cell_type": "code",
   "execution_count": null,
   "metadata": {
    "collapsed": true
   },
   "outputs": [],
   "source": []
  },
  {
   "cell_type": "code",
   "execution_count": 8,
   "metadata": {},
   "outputs": [],
   "source": [
    "website = 'https://kakzovut.ru/'\n",
    "genders_pages = ['woman.html', 'man.html']\n",
    "\n",
    "genders_list = []\n",
    "\n",
    "for gender_page in genders_pages:\n",
    "    main_page = BeautifulSoup(urllib.request.urlopen(website + gender_page).read(), 'lxml')\n",
    "    \n",
    "    gender_names_list = [];\n",
    "    \n",
    "    for name_div in main_page.find_all('div', {'class' : 'nameslist'}):\n",
    "        name = name_div.text\n",
    "        name_formatted = name_div.text.lower().replace('ё', 'е')\n",
    "        \n",
    "        name_dict = {}\n",
    "        name_dict['first_form'] = name_formatted\n",
    "        \n",
    "        name_synonyms = []\n",
    "        name_short_forms = []\n",
    "        \n",
    "        name_page = BeautifulSoup(urllib.request.urlopen(website + name_div.contents[0]['href']).read(), 'lxml')\n",
    "        try:\n",
    "            name_synonyms = name_page.find(\n",
    "                name='b', text=u'Краткая форма имени {0}.'.format(name)\n",
    "            ).find_next_sibling(\n",
    "                text=True\n",
    "            )[:-1].strip().lower().replace('ё', 'е').split(', ')\n",
    "            name_short_forms = name_page.find(\n",
    "                name='b', text=u'Краткая форма имени {0}.'.format(name)\n",
    "            ).find_next_sibling(\n",
    "                text=True\n",
    "            ).find_next_sibling(\n",
    "                text=True\n",
    "            )[:-1].strip().lower().encode('utf8').decode('utf8').split(', ')\n",
    "        except AttributeError:\n",
    "            name_forms_set = set()\n",
    "        \n",
    "        name_dict['synonims'] = name_synonyms\n",
    "        name_dict['short_forms'] = name_short_forms\n",
    "        \n",
    "        gender_names_list.append(name_dict)\n",
    "        \n",
    "    genders_list.append(gender_names_list)"
   ]
  },
  {
   "cell_type": "code",
   "execution_count": 15,
   "metadata": {
    "collapsed": true
   },
   "outputs": [],
   "source": [
    "import json\n",
    "with io.open('names_w.json', 'w', encoding='utf8') as outfile:\n",
    "    json.dump(genders_list[0], outfile, ensure_ascii=False)\n",
    "# with io.open('names_m.json', 'w', encoding='utf8') as outfile:\n",
    "#     json.dump(genders_list[1], outfile, ensure_ascii=False)\n",
    "\n",
    "    "
   ]
  },
  {
   "cell_type": "code",
   "execution_count": 20,
   "metadata": {},
   "outputs": [
    {
     "data": {
      "text/plain": [
       "list"
      ]
     },
     "execution_count": 20,
     "metadata": {},
     "output_type": "execute_result"
    }
   ],
   "source": [
    "with io.open('names_w.json', 'r', encoding='utf8') as outfile:\n",
    "    data_w = json.load(outfile)\n",
    "\n",
    "type(data_w)"
   ]
  },
  {
   "cell_type": "code",
   "execution_count": null,
   "metadata": {
    "collapsed": true
   },
   "outputs": [],
   "source": []
  }
 ],
 "metadata": {
  "kernelspec": {
   "display_name": "Python 3",
   "language": "python",
   "name": "python3"
  },
  "language_info": {
   "codemirror_mode": {
    "name": "ipython",
    "version": 3
   },
   "file_extension": ".py",
   "mimetype": "text/x-python",
   "name": "python",
   "nbconvert_exporter": "python",
   "pygments_lexer": "ipython3",
   "version": "3.6.3"
  }
 },
 "nbformat": 4,
 "nbformat_minor": 2
}
